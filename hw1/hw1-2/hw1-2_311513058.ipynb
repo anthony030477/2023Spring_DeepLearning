{
 "cells": [
  {
   "cell_type": "code",
   "execution_count": 1,
   "metadata": {},
   "outputs": [],
   "source": [
    "import torch\n",
    "import torchvision\n",
    "import torch.nn as nn\n",
    "import torch.nn.functional as F\n",
    "import torchvision.transforms as transforms\n",
    "from torch.utils.data import Dataset\n",
    "from tqdm import tqdm\n",
    "import os\n",
    "from PIL import Image"
   ]
  },
  {
   "cell_type": "code",
   "execution_count": 2,
   "metadata": {},
   "outputs": [],
   "source": [
    "transform = transforms.Compose([\n",
    "        transforms.RandAugment(2,5),\n",
    "        transforms.ToTensor(),\n",
    "        transforms.Normalize((0.25,0.25,0.25), (0.25,0.25,0.25))\n",
    "    ])"
   ]
  },
  {
   "cell_type": "code",
   "execution_count": 3,
   "metadata": {},
   "outputs": [],
   "source": [
    "class TrainDataset(Dataset):\n",
    "    def __init__(self, root_dir='CIFAR-10\\\\train', transform=transform):\n",
    "        self.name_list=os.listdir(root_dir)\n",
    "        img_list=[]\n",
    "        for i in range(10):\n",
    "            img_list.extend(os.listdir(root_dir+'\\\\'+self.name_list[i]))\n",
    "        self.image_list=img_list\n",
    "        self.root_dir=root_dir\n",
    "        self.namedict = {}\n",
    "        for i in range(10):\n",
    "            self.namedict[self.name_list[i]] = i\n",
    "    def __len__(self):\n",
    "        return len(self.image_list)\n",
    "\n",
    "    def __getitem__(self, index):\n",
    "        #label=self.image_list[index].split(\"_\")[0]\n",
    "        name=self.image_list[index].split(\"_\")[0]\n",
    "        image=Image.open(self.root_dir+'\\\\'+name+'\\\\'+self.image_list[index])\n",
    "        image=transform(image)\n",
    "        label=self.namedict[name]\n",
    "        return image, label\n",
    "\n",
    "class TestDataset(Dataset):\n",
    "    def __init__(self, root_dir='CIFAR-10\\\\test', transform=None):\n",
    "        self.name_list=os.listdir(root_dir)\n",
    "        img_list=[]\n",
    "        for i in range(10):\n",
    "            img_list.extend(os.listdir(root_dir+'\\\\'+self.name_list[i]))\n",
    "        self.image_list=img_list\n",
    "        self.root_dir=root_dir\n",
    "        self.namedict = {}\n",
    "        for i in range(10):\n",
    "            self.namedict[self.name_list[i]] = i\n",
    "\n",
    "    def __len__(self):\n",
    "        return len(self.image_list)\n",
    "\n",
    "    def __getitem__(self, index):\n",
    "        #label=self.image_list[index].split(\"_\")[0]\n",
    "        name=self.image_list[index].split(\"_\")[1]\n",
    "        image=Image.open(self.root_dir+'\\\\'+name+'\\\\'+self.image_list[index])\n",
    "        image=transform(image)\n",
    "        label=self.namedict[name]\n",
    "        return image, label"
   ]
  },
  {
   "attachments": {},
   "cell_type": "markdown",
   "metadata": {},
   "source": [
    "1."
   ]
  },
  {
   "cell_type": "code",
   "execution_count": 4,
   "metadata": {},
   "outputs": [],
   "source": [
    "class CNN(nn.Module):\n",
    "    def __init__(self):\n",
    "        super(CNN, self).__init__()\n",
    "        self.cnn1=nn.Sequential(\n",
    "            nn.Conv2d(3, 28, kernel_size=3, stride=1, padding=1),\n",
    "            nn.BatchNorm2d(28),\n",
    "            nn.ReLU(),\n",
    "            nn.AvgPool2d(kernel_size=2, stride=2),\n",
    "            \n",
    "        )\n",
    "        self.cnn2=nn.Sequential(\n",
    "            nn.Conv2d(28, 56, kernel_size=3, stride=1, padding=1),\n",
    "            nn.BatchNorm2d(56),\n",
    "            nn.ReLU(),\n",
    "            nn.AvgPool2d(kernel_size=2, stride=2),\n",
    "            \n",
    "        )\n",
    "        self.cnn3=nn.Sequential(\n",
    "            nn.Conv2d(56, 136, kernel_size=3, stride=1, padding=1),\n",
    "            nn.BatchNorm2d(136),\n",
    "            nn.ReLU(),\n",
    "            nn.AvgPool2d(kernel_size=2, stride=2),\n",
    "            \n",
    "        )\n",
    "\n",
    "        \n",
    "        self.fc = nn.Linear(136*4*4, 10)\n",
    "        self.dropout = nn.Dropout(p=0.5)\n",
    "        \n",
    "    def forward(self, x):\n",
    "        x=self.cnn1(x)\n",
    "        x=self.cnn2(x)\n",
    "        x=self.cnn3(x)\n",
    "        x = x.view(x.size(0), -1)\n",
    "        x=self.dropout(x)\n",
    "        x=self.fc(x)\n",
    "        \n",
    "        return x\n"
   ]
  },
  {
   "cell_type": "code",
   "execution_count": 5,
   "metadata": {},
   "outputs": [],
   "source": [
    "train_data=TrainDataset()\n",
    "trainloader=torch.utils.data.DataLoader(train_data, batch_size=32,shuffle=True)\n",
    "test_data=TestDataset()\n",
    "testloader=torch.utils.data.DataLoader(test_data, batch_size=32,shuffle=False)"
   ]
  },
  {
   "cell_type": "code",
   "execution_count": 6,
   "metadata": {},
   "outputs": [],
   "source": [
    "model_cnn= CNN()\n",
    "device = torch.device('cuda' if torch.cuda.is_available() else 'cpu')\n",
    "model_cnn.to(device)\n",
    "optimizer = torch.optim.Adam(model_cnn.parameters(),lr=0.001,weight_decay=1e-4)\n",
    "criterion = torch.nn.CrossEntropyLoss()"
   ]
  },
  {
   "cell_type": "code",
   "execution_count": 7,
   "metadata": {},
   "outputs": [],
   "source": [
    "def train(i,num_epochs,model):\n",
    "    model.train()\n",
    "    acc=[]\n",
    "    loss_list=[]\n",
    "    for epoch in range(1):\n",
    "        for images, labels in( bar :=tqdm(trainloader)):\n",
    "            \n",
    "            images = images.to(device)\n",
    "            labels = labels.to(device)#batchsize \n",
    "            \n",
    "            optimizer.zero_grad()\n",
    "            \n",
    "            output=model(images)\n",
    "           \n",
    "            loss=criterion(output, labels)\n",
    "            \n",
    "            loss.backward()\n",
    "            optimizer.step()\n",
    "\n",
    "    \n",
    "            accuracy=(( torch.argmax(output, dim=1)==labels).sum().item())/labels.size(0)\n",
    "            acc.append(accuracy)\n",
    "\n",
    "            bar.set_description(f'epoch[{i+1:3d}/{num_epochs}]|Training')\n",
    "            bar.set_postfix_str(f' loss {loss.item():.4f} accuracy {sum(acc)/len(acc) :.4f}')\n",
    "\n",
    "            loss_list.append(loss.item())\n",
    "    return sum(loss_list)/len(loss_list),sum(acc)/len(acc)\n",
    "def test(model):\n",
    "    model.eval()\n",
    "    acc=[]\n",
    "    total=[]\n",
    "    loss_list=[]\n",
    "    with torch.no_grad():\n",
    "        \n",
    "        for images, labels in( bar :=tqdm(testloader,smoothing=0.1)):\n",
    "            \n",
    "            images = images.to(device)\n",
    "            labels = labels.to(device)#batchsize \n",
    "            \n",
    "            output=model(images)\n",
    "            loss=criterion(output, labels)\n",
    "            \n",
    "            accuracy=(( torch.argmax(output, dim=1)==labels).sum().item())#/labels.size(0)\n",
    "\n",
    "            acc.append(accuracy)\n",
    "            total.append(labels.size(0))\n",
    "            loss_list.append(loss.item())\n",
    "        print(\"accuracy: \",sum(acc)/sum(total))\n",
    "    return sum(loss_list)/len(loss_list),sum(acc)/sum(total)\n",
    "\n"
   ]
  },
  {
   "cell_type": "code",
   "execution_count": 8,
   "metadata": {},
   "outputs": [
    {
     "name": "stderr",
     "output_type": "stream",
     "text": [
      "epoch[  1/100]|Training: 100%|██████████| 63/63 [00:03<00:00, 17.57it/s,  loss 2.0112 accuracy 0.2480]\n",
      "100%|██████████| 13/13 [00:00<00:00, 44.18it/s]\n"
     ]
    },
    {
     "name": "stdout",
     "output_type": "stream",
     "text": [
      "accuracy:  0.33\n"
     ]
    },
    {
     "name": "stderr",
     "output_type": "stream",
     "text": [
      "epoch[  2/100]|Training: 100%|██████████| 63/63 [00:01<00:00, 36.57it/s,  loss 2.0877 accuracy 0.3447]\n",
      "100%|██████████| 13/13 [00:00<00:00, 42.17it/s]\n"
     ]
    },
    {
     "name": "stdout",
     "output_type": "stream",
     "text": [
      "accuracy:  0.34\n"
     ]
    },
    {
     "name": "stderr",
     "output_type": "stream",
     "text": [
      "epoch[  3/100]|Training: 100%|██████████| 63/63 [00:01<00:00, 33.75it/s,  loss 1.9716 accuracy 0.3973]\n",
      "100%|██████████| 13/13 [00:00<00:00, 39.96it/s]\n"
     ]
    },
    {
     "name": "stdout",
     "output_type": "stream",
     "text": [
      "accuracy:  0.3825\n"
     ]
    },
    {
     "name": "stderr",
     "output_type": "stream",
     "text": [
      "epoch[  4/100]|Training: 100%|██████████| 63/63 [00:02<00:00, 29.03it/s,  loss 1.4963 accuracy 0.4449]\n",
      "100%|██████████| 13/13 [00:00<00:00, 35.88it/s]\n"
     ]
    },
    {
     "name": "stdout",
     "output_type": "stream",
     "text": [
      "accuracy:  0.415\n"
     ]
    },
    {
     "name": "stderr",
     "output_type": "stream",
     "text": [
      "epoch[  5/100]|Training: 100%|██████████| 63/63 [00:02<00:00, 23.25it/s,  loss 1.7662 accuracy 0.4797]\n",
      "100%|██████████| 13/13 [00:00<00:00, 36.28it/s]\n"
     ]
    },
    {
     "name": "stdout",
     "output_type": "stream",
     "text": [
      "accuracy:  0.4\n"
     ]
    },
    {
     "name": "stderr",
     "output_type": "stream",
     "text": [
      "epoch[  6/100]|Training: 100%|██████████| 63/63 [00:02<00:00, 23.04it/s,  loss 1.0363 accuracy 0.4936]\n",
      "100%|██████████| 13/13 [00:00<00:00, 34.54it/s]\n"
     ]
    },
    {
     "name": "stdout",
     "output_type": "stream",
     "text": [
      "accuracy:  0.385\n"
     ]
    },
    {
     "name": "stderr",
     "output_type": "stream",
     "text": [
      "epoch[  7/100]|Training: 100%|██████████| 63/63 [00:02<00:00, 22.62it/s,  loss 1.7583 accuracy 0.5253]\n",
      "100%|██████████| 13/13 [00:00<00:00, 35.20it/s]\n"
     ]
    },
    {
     "name": "stdout",
     "output_type": "stream",
     "text": [
      "accuracy:  0.4475\n"
     ]
    },
    {
     "name": "stderr",
     "output_type": "stream",
     "text": [
      "epoch[  8/100]|Training: 100%|██████████| 63/63 [00:02<00:00, 23.30it/s,  loss 1.3862 accuracy 0.5501]\n",
      "100%|██████████| 13/13 [00:00<00:00, 35.68it/s]\n"
     ]
    },
    {
     "name": "stdout",
     "output_type": "stream",
     "text": [
      "accuracy:  0.435\n"
     ]
    },
    {
     "name": "stderr",
     "output_type": "stream",
     "text": [
      "epoch[  9/100]|Training: 100%|██████████| 63/63 [00:02<00:00, 22.68it/s,  loss 1.0844 accuracy 0.5620]\n",
      "100%|██████████| 13/13 [00:00<00:00, 35.68it/s]\n"
     ]
    },
    {
     "name": "stdout",
     "output_type": "stream",
     "text": [
      "accuracy:  0.4725\n"
     ]
    },
    {
     "name": "stderr",
     "output_type": "stream",
     "text": [
      "epoch[ 10/100]|Training: 100%|██████████| 63/63 [00:02<00:00, 23.62it/s,  loss 1.5255 accuracy 0.5719]\n",
      "100%|██████████| 13/13 [00:00<00:00, 37.32it/s]\n"
     ]
    },
    {
     "name": "stdout",
     "output_type": "stream",
     "text": [
      "accuracy:  0.455\n"
     ]
    },
    {
     "name": "stderr",
     "output_type": "stream",
     "text": [
      "epoch[ 11/100]|Training: 100%|██████████| 63/63 [00:02<00:00, 23.90it/s,  loss 0.5229 accuracy 0.6032]\n",
      "100%|██████████| 13/13 [00:00<00:00, 36.69it/s]\n"
     ]
    },
    {
     "name": "stdout",
     "output_type": "stream",
     "text": [
      "accuracy:  0.4675\n"
     ]
    },
    {
     "name": "stderr",
     "output_type": "stream",
     "text": [
      "epoch[ 12/100]|Training: 100%|██████████| 63/63 [00:02<00:00, 23.89it/s,  loss 1.2283 accuracy 0.6156]\n",
      "100%|██████████| 13/13 [00:00<00:00, 36.38it/s]\n"
     ]
    },
    {
     "name": "stdout",
     "output_type": "stream",
     "text": [
      "accuracy:  0.455\n"
     ]
    },
    {
     "name": "stderr",
     "output_type": "stream",
     "text": [
      "epoch[ 13/100]|Training: 100%|██████████| 63/63 [00:02<00:00, 23.02it/s,  loss 1.3956 accuracy 0.6186]\n",
      "100%|██████████| 13/13 [00:00<00:00, 36.59it/s]\n"
     ]
    },
    {
     "name": "stdout",
     "output_type": "stream",
     "text": [
      "accuracy:  0.4725\n"
     ]
    },
    {
     "name": "stderr",
     "output_type": "stream",
     "text": [
      "epoch[ 14/100]|Training: 100%|██████████| 63/63 [00:02<00:00, 23.11it/s,  loss 0.8049 accuracy 0.6414]\n",
      "100%|██████████| 13/13 [00:00<00:00, 35.88it/s]\n"
     ]
    },
    {
     "name": "stdout",
     "output_type": "stream",
     "text": [
      "accuracy:  0.46\n"
     ]
    },
    {
     "name": "stderr",
     "output_type": "stream",
     "text": [
      "epoch[ 15/100]|Training: 100%|██████████| 63/63 [00:02<00:00, 23.20it/s,  loss 1.1212 accuracy 0.6329]\n",
      "100%|██████████| 13/13 [00:00<00:00, 34.00it/s]\n"
     ]
    },
    {
     "name": "stdout",
     "output_type": "stream",
     "text": [
      "accuracy:  0.4725\n"
     ]
    },
    {
     "name": "stderr",
     "output_type": "stream",
     "text": [
      "epoch[ 16/100]|Training: 100%|██████████| 63/63 [00:02<00:00, 22.87it/s,  loss 1.3875 accuracy 0.6617]\n",
      "100%|██████████| 13/13 [00:00<00:00, 35.39it/s]\n"
     ]
    },
    {
     "name": "stdout",
     "output_type": "stream",
     "text": [
      "accuracy:  0.49\n"
     ]
    },
    {
     "name": "stderr",
     "output_type": "stream",
     "text": [
      "epoch[ 17/100]|Training: 100%|██████████| 63/63 [00:02<00:00, 23.06it/s,  loss 0.6902 accuracy 0.6677]\n",
      "100%|██████████| 13/13 [00:00<00:00, 37.22it/s]\n"
     ]
    },
    {
     "name": "stdout",
     "output_type": "stream",
     "text": [
      "accuracy:  0.48\n"
     ]
    },
    {
     "name": "stderr",
     "output_type": "stream",
     "text": [
      "epoch[ 18/100]|Training: 100%|██████████| 63/63 [00:02<00:00, 29.33it/s,  loss 0.5876 accuracy 0.6731]\n",
      "100%|██████████| 13/13 [00:00<00:00, 40.46it/s]\n"
     ]
    },
    {
     "name": "stdout",
     "output_type": "stream",
     "text": [
      "accuracy:  0.5325\n"
     ]
    },
    {
     "name": "stderr",
     "output_type": "stream",
     "text": [
      "epoch[ 19/100]|Training: 100%|██████████| 63/63 [00:02<00:00, 28.95it/s,  loss 1.3898 accuracy 0.6786]\n",
      "100%|██████████| 13/13 [00:00<00:00, 37.00it/s]\n"
     ]
    },
    {
     "name": "stdout",
     "output_type": "stream",
     "text": [
      "accuracy:  0.5275\n"
     ]
    },
    {
     "name": "stderr",
     "output_type": "stream",
     "text": [
      "epoch[ 20/100]|Training: 100%|██████████| 63/63 [00:02<00:00, 28.80it/s,  loss 1.0134 accuracy 0.6944]\n",
      "100%|██████████| 13/13 [00:00<00:00, 38.31it/s]\n"
     ]
    },
    {
     "name": "stdout",
     "output_type": "stream",
     "text": [
      "accuracy:  0.5375\n"
     ]
    },
    {
     "name": "stderr",
     "output_type": "stream",
     "text": [
      "epoch[ 21/100]|Training: 100%|██████████| 63/63 [00:02<00:00, 29.88it/s,  loss 0.8876 accuracy 0.7148]\n",
      "100%|██████████| 13/13 [00:00<00:00, 38.77it/s]\n"
     ]
    },
    {
     "name": "stdout",
     "output_type": "stream",
     "text": [
      "accuracy:  0.5025\n"
     ]
    },
    {
     "name": "stderr",
     "output_type": "stream",
     "text": [
      "epoch[ 22/100]|Training: 100%|██████████| 63/63 [00:01<00:00, 31.75it/s,  loss 0.8299 accuracy 0.7103]\n",
      "100%|██████████| 13/13 [00:00<00:00, 39.72it/s]\n"
     ]
    },
    {
     "name": "stdout",
     "output_type": "stream",
     "text": [
      "accuracy:  0.445\n"
     ]
    },
    {
     "name": "stderr",
     "output_type": "stream",
     "text": [
      "epoch[ 23/100]|Training: 100%|██████████| 63/63 [00:02<00:00, 30.17it/s,  loss 0.6513 accuracy 0.6989]\n",
      "100%|██████████| 13/13 [00:00<00:00, 36.69it/s]\n"
     ]
    },
    {
     "name": "stdout",
     "output_type": "stream",
     "text": [
      "accuracy:  0.5175\n"
     ]
    },
    {
     "name": "stderr",
     "output_type": "stream",
     "text": [
      "epoch[ 24/100]|Training: 100%|██████████| 63/63 [00:01<00:00, 32.55it/s,  loss 0.7085 accuracy 0.7252]\n",
      "100%|██████████| 13/13 [00:00<00:00, 40.34it/s]\n"
     ]
    },
    {
     "name": "stdout",
     "output_type": "stream",
     "text": [
      "accuracy:  0.51\n"
     ]
    },
    {
     "name": "stderr",
     "output_type": "stream",
     "text": [
      "epoch[ 25/100]|Training: 100%|██████████| 63/63 [00:02<00:00, 29.84it/s,  loss 0.7932 accuracy 0.7158]\n",
      "100%|██████████| 13/13 [00:00<00:00, 38.20it/s]\n"
     ]
    },
    {
     "name": "stdout",
     "output_type": "stream",
     "text": [
      "accuracy:  0.5425\n"
     ]
    },
    {
     "name": "stderr",
     "output_type": "stream",
     "text": [
      "epoch[ 26/100]|Training: 100%|██████████| 63/63 [00:02<00:00, 30.24it/s,  loss 1.0264 accuracy 0.7431]\n",
      "100%|██████████| 13/13 [00:00<00:00, 33.56it/s]\n"
     ]
    },
    {
     "name": "stdout",
     "output_type": "stream",
     "text": [
      "accuracy:  0.5075\n"
     ]
    },
    {
     "name": "stderr",
     "output_type": "stream",
     "text": [
      "epoch[ 27/100]|Training: 100%|██████████| 63/63 [00:02<00:00, 25.24it/s,  loss 0.8291 accuracy 0.7257]\n",
      "100%|██████████| 13/13 [00:00<00:00, 42.37it/s]\n"
     ]
    },
    {
     "name": "stdout",
     "output_type": "stream",
     "text": [
      "accuracy:  0.5375\n"
     ]
    },
    {
     "name": "stderr",
     "output_type": "stream",
     "text": [
      "epoch[ 28/100]|Training: 100%|██████████| 63/63 [00:01<00:00, 34.08it/s,  loss 0.4340 accuracy 0.7619]\n",
      "100%|██████████| 13/13 [00:00<00:00, 42.58it/s]\n"
     ]
    },
    {
     "name": "stdout",
     "output_type": "stream",
     "text": [
      "accuracy:  0.5025\n"
     ]
    },
    {
     "name": "stderr",
     "output_type": "stream",
     "text": [
      "epoch[ 29/100]|Training: 100%|██████████| 63/63 [00:02<00:00, 29.86it/s,  loss 0.7698 accuracy 0.7634]\n",
      "100%|██████████| 13/13 [00:00<00:00, 39.95it/s]\n"
     ]
    },
    {
     "name": "stdout",
     "output_type": "stream",
     "text": [
      "accuracy:  0.5375\n"
     ]
    },
    {
     "name": "stderr",
     "output_type": "stream",
     "text": [
      "epoch[ 30/100]|Training: 100%|██████████| 63/63 [00:02<00:00, 29.19it/s,  loss 0.6712 accuracy 0.7431]\n",
      "100%|██████████| 13/13 [00:00<00:00, 37.70it/s]\n"
     ]
    },
    {
     "name": "stdout",
     "output_type": "stream",
     "text": [
      "accuracy:  0.505\n"
     ]
    },
    {
     "name": "stderr",
     "output_type": "stream",
     "text": [
      "epoch[ 31/100]|Training: 100%|██████████| 63/63 [00:02<00:00, 30.87it/s,  loss 0.6799 accuracy 0.7733]\n",
      "100%|██████████| 13/13 [00:00<00:00, 40.21it/s]\n"
     ]
    },
    {
     "name": "stdout",
     "output_type": "stream",
     "text": [
      "accuracy:  0.51\n"
     ]
    },
    {
     "name": "stderr",
     "output_type": "stream",
     "text": [
      "epoch[ 32/100]|Training: 100%|██████████| 63/63 [00:02<00:00, 26.02it/s,  loss 0.4281 accuracy 0.7738]\n",
      "100%|██████████| 13/13 [00:00<00:00, 36.19it/s]\n"
     ]
    },
    {
     "name": "stdout",
     "output_type": "stream",
     "text": [
      "accuracy:  0.5175\n"
     ]
    },
    {
     "name": "stderr",
     "output_type": "stream",
     "text": [
      "epoch[ 33/100]|Training: 100%|██████████| 63/63 [00:02<00:00, 23.47it/s,  loss 0.3597 accuracy 0.7733]\n",
      "100%|██████████| 13/13 [00:00<00:00, 35.78it/s]\n"
     ]
    },
    {
     "name": "stdout",
     "output_type": "stream",
     "text": [
      "accuracy:  0.5125\n"
     ]
    },
    {
     "name": "stderr",
     "output_type": "stream",
     "text": [
      "epoch[ 34/100]|Training: 100%|██████████| 63/63 [00:02<00:00, 23.44it/s,  loss 0.9176 accuracy 0.7569]\n",
      "100%|██████████| 13/13 [00:00<00:00, 35.78it/s]\n"
     ]
    },
    {
     "name": "stdout",
     "output_type": "stream",
     "text": [
      "accuracy:  0.52\n"
     ]
    },
    {
     "name": "stderr",
     "output_type": "stream",
     "text": [
      "epoch[ 35/100]|Training: 100%|██████████| 63/63 [00:02<00:00, 23.48it/s,  loss 0.6075 accuracy 0.7803]\n",
      "100%|██████████| 13/13 [00:00<00:00, 36.28it/s]\n"
     ]
    },
    {
     "name": "stdout",
     "output_type": "stream",
     "text": [
      "accuracy:  0.5625\n"
     ]
    },
    {
     "name": "stderr",
     "output_type": "stream",
     "text": [
      "epoch[ 36/100]|Training: 100%|██████████| 63/63 [00:02<00:00, 23.08it/s,  loss 0.4766 accuracy 0.7917]\n",
      "100%|██████████| 13/13 [00:00<00:00, 36.28it/s]\n"
     ]
    },
    {
     "name": "stdout",
     "output_type": "stream",
     "text": [
      "accuracy:  0.51\n"
     ]
    },
    {
     "name": "stderr",
     "output_type": "stream",
     "text": [
      "epoch[ 37/100]|Training: 100%|██████████| 63/63 [00:02<00:00, 23.45it/s,  loss 0.5899 accuracy 0.7892]\n",
      "100%|██████████| 13/13 [00:00<00:00, 36.48it/s]\n"
     ]
    },
    {
     "name": "stdout",
     "output_type": "stream",
     "text": [
      "accuracy:  0.54\n"
     ]
    },
    {
     "name": "stderr",
     "output_type": "stream",
     "text": [
      "epoch[ 38/100]|Training: 100%|██████████| 63/63 [00:02<00:00, 23.56it/s,  loss 0.7189 accuracy 0.7892]\n",
      "100%|██████████| 13/13 [00:00<00:00, 34.91it/s]\n"
     ]
    },
    {
     "name": "stdout",
     "output_type": "stream",
     "text": [
      "accuracy:  0.5375\n"
     ]
    },
    {
     "name": "stderr",
     "output_type": "stream",
     "text": [
      "epoch[ 39/100]|Training: 100%|██████████| 63/63 [00:02<00:00, 23.37it/s,  loss 0.7534 accuracy 0.7981]\n",
      "100%|██████████| 13/13 [00:00<00:00, 36.08it/s]\n"
     ]
    },
    {
     "name": "stdout",
     "output_type": "stream",
     "text": [
      "accuracy:  0.5425\n"
     ]
    },
    {
     "name": "stderr",
     "output_type": "stream",
     "text": [
      "epoch[ 40/100]|Training: 100%|██████████| 63/63 [00:02<00:00, 22.92it/s,  loss 0.6490 accuracy 0.8016]\n",
      "100%|██████████| 13/13 [00:00<00:00, 36.14it/s]\n"
     ]
    },
    {
     "name": "stdout",
     "output_type": "stream",
     "text": [
      "accuracy:  0.495\n"
     ]
    },
    {
     "name": "stderr",
     "output_type": "stream",
     "text": [
      "epoch[ 41/100]|Training: 100%|██████████| 63/63 [00:02<00:00, 22.35it/s,  loss 0.8067 accuracy 0.7996]\n",
      "100%|██████████| 13/13 [00:00<00:00, 36.18it/s]\n"
     ]
    },
    {
     "name": "stdout",
     "output_type": "stream",
     "text": [
      "accuracy:  0.5525\n"
     ]
    },
    {
     "name": "stderr",
     "output_type": "stream",
     "text": [
      "epoch[ 42/100]|Training: 100%|██████████| 63/63 [00:02<00:00, 21.72it/s,  loss 0.7184 accuracy 0.8214]\n",
      "100%|██████████| 13/13 [00:00<00:00, 32.12it/s]\n"
     ]
    },
    {
     "name": "stdout",
     "output_type": "stream",
     "text": [
      "accuracy:  0.53\n"
     ]
    },
    {
     "name": "stderr",
     "output_type": "stream",
     "text": [
      "epoch[ 43/100]|Training: 100%|██████████| 63/63 [00:02<00:00, 26.22it/s,  loss 0.3224 accuracy 0.8110]\n",
      "100%|██████████| 13/13 [00:00<00:00, 40.46it/s]\n"
     ]
    },
    {
     "name": "stdout",
     "output_type": "stream",
     "text": [
      "accuracy:  0.56\n"
     ]
    },
    {
     "name": "stderr",
     "output_type": "stream",
     "text": [
      "epoch[ 44/100]|Training: 100%|██████████| 63/63 [00:02<00:00, 30.53it/s,  loss 0.4126 accuracy 0.8140]\n",
      "100%|██████████| 13/13 [00:00<00:00, 39.72it/s]\n"
     ]
    },
    {
     "name": "stdout",
     "output_type": "stream",
     "text": [
      "accuracy:  0.5375\n"
     ]
    },
    {
     "name": "stderr",
     "output_type": "stream",
     "text": [
      "epoch[ 45/100]|Training: 100%|██████████| 63/63 [00:02<00:00, 27.44it/s,  loss 0.7018 accuracy 0.8269]\n",
      "100%|██████████| 13/13 [00:00<00:00, 28.89it/s]\n"
     ]
    },
    {
     "name": "stdout",
     "output_type": "stream",
     "text": [
      "accuracy:  0.5575\n"
     ]
    },
    {
     "name": "stderr",
     "output_type": "stream",
     "text": [
      "epoch[ 46/100]|Training: 100%|██████████| 63/63 [00:02<00:00, 31.03it/s,  loss 0.6374 accuracy 0.8264]\n",
      "100%|██████████| 13/13 [00:00<00:00, 36.79it/s]\n"
     ]
    },
    {
     "name": "stdout",
     "output_type": "stream",
     "text": [
      "accuracy:  0.515\n"
     ]
    },
    {
     "name": "stderr",
     "output_type": "stream",
     "text": [
      "epoch[ 47/100]|Training: 100%|██████████| 63/63 [00:02<00:00, 27.94it/s,  loss 0.6028 accuracy 0.8294]\n",
      "100%|██████████| 13/13 [00:00<00:00, 35.88it/s]\n"
     ]
    },
    {
     "name": "stdout",
     "output_type": "stream",
     "text": [
      "accuracy:  0.5775\n"
     ]
    },
    {
     "name": "stderr",
     "output_type": "stream",
     "text": [
      "epoch[ 48/100]|Training: 100%|██████████| 63/63 [00:02<00:00, 27.83it/s,  loss 0.5941 accuracy 0.8155]\n",
      "100%|██████████| 13/13 [00:00<00:00, 30.14it/s]\n"
     ]
    },
    {
     "name": "stdout",
     "output_type": "stream",
     "text": [
      "accuracy:  0.5325\n"
     ]
    },
    {
     "name": "stderr",
     "output_type": "stream",
     "text": [
      "epoch[ 49/100]|Training: 100%|██████████| 63/63 [00:02<00:00, 21.13it/s,  loss 0.5299 accuracy 0.8507]\n",
      "100%|██████████| 13/13 [00:00<00:00, 26.78it/s]\n"
     ]
    },
    {
     "name": "stdout",
     "output_type": "stream",
     "text": [
      "accuracy:  0.5575\n"
     ]
    },
    {
     "name": "stderr",
     "output_type": "stream",
     "text": [
      "epoch[ 50/100]|Training: 100%|██████████| 63/63 [00:02<00:00, 21.96it/s,  loss 0.4282 accuracy 0.8452]\n",
      "100%|██████████| 13/13 [00:00<00:00, 33.22it/s]\n"
     ]
    },
    {
     "name": "stdout",
     "output_type": "stream",
     "text": [
      "accuracy:  0.5625\n"
     ]
    },
    {
     "name": "stderr",
     "output_type": "stream",
     "text": [
      "epoch[ 51/100]|Training: 100%|██████████| 63/63 [00:02<00:00, 22.64it/s,  loss 0.5559 accuracy 0.8398]\n",
      "100%|██████████| 13/13 [00:00<00:00, 33.13it/s]\n"
     ]
    },
    {
     "name": "stdout",
     "output_type": "stream",
     "text": [
      "accuracy:  0.525\n"
     ]
    },
    {
     "name": "stderr",
     "output_type": "stream",
     "text": [
      "epoch[ 52/100]|Training: 100%|██████████| 63/63 [00:02<00:00, 25.02it/s,  loss 0.6333 accuracy 0.8428]\n",
      "100%|██████████| 13/13 [00:00<00:00, 34.67it/s]\n"
     ]
    },
    {
     "name": "stdout",
     "output_type": "stream",
     "text": [
      "accuracy:  0.5775\n"
     ]
    },
    {
     "name": "stderr",
     "output_type": "stream",
     "text": [
      "epoch[ 53/100]|Training: 100%|██████████| 63/63 [00:02<00:00, 30.44it/s,  loss 0.7536 accuracy 0.8279]\n",
      "100%|██████████| 13/13 [00:00<00:00, 38.44it/s]\n"
     ]
    },
    {
     "name": "stdout",
     "output_type": "stream",
     "text": [
      "accuracy:  0.56\n"
     ]
    },
    {
     "name": "stderr",
     "output_type": "stream",
     "text": [
      "epoch[ 54/100]|Training: 100%|██████████| 63/63 [00:02<00:00, 27.72it/s,  loss 0.2622 accuracy 0.8467]\n",
      "100%|██████████| 13/13 [00:00<00:00, 38.94it/s]\n"
     ]
    },
    {
     "name": "stdout",
     "output_type": "stream",
     "text": [
      "accuracy:  0.5475\n"
     ]
    },
    {
     "name": "stderr",
     "output_type": "stream",
     "text": [
      "epoch[ 55/100]|Training: 100%|██████████| 63/63 [00:02<00:00, 29.53it/s,  loss 0.4821 accuracy 0.8676]\n",
      "100%|██████████| 13/13 [00:00<00:00, 38.46it/s]\n"
     ]
    },
    {
     "name": "stdout",
     "output_type": "stream",
     "text": [
      "accuracy:  0.56\n"
     ]
    },
    {
     "name": "stderr",
     "output_type": "stream",
     "text": [
      "epoch[ 56/100]|Training: 100%|██████████| 63/63 [00:02<00:00, 29.00it/s,  loss 0.8334 accuracy 0.8462]\n",
      "100%|██████████| 13/13 [00:00<00:00, 37.55it/s]\n"
     ]
    },
    {
     "name": "stdout",
     "output_type": "stream",
     "text": [
      "accuracy:  0.5325\n"
     ]
    },
    {
     "name": "stderr",
     "output_type": "stream",
     "text": [
      "epoch[ 57/100]|Training: 100%|██████████| 63/63 [00:02<00:00, 22.73it/s,  loss 0.4689 accuracy 0.8562]\n",
      "100%|██████████| 13/13 [00:00<00:00, 29.90it/s]\n"
     ]
    },
    {
     "name": "stdout",
     "output_type": "stream",
     "text": [
      "accuracy:  0.575\n"
     ]
    },
    {
     "name": "stderr",
     "output_type": "stream",
     "text": [
      "epoch[ 58/100]|Training: 100%|██████████| 63/63 [00:03<00:00, 19.29it/s,  loss 0.5801 accuracy 0.8646]\n",
      "100%|██████████| 13/13 [00:00<00:00, 35.35it/s]\n"
     ]
    },
    {
     "name": "stdout",
     "output_type": "stream",
     "text": [
      "accuracy:  0.57\n"
     ]
    },
    {
     "name": "stderr",
     "output_type": "stream",
     "text": [
      "epoch[ 59/100]|Training: 100%|██████████| 63/63 [00:02<00:00, 24.35it/s,  loss 0.6850 accuracy 0.8472]\n",
      "100%|██████████| 13/13 [00:00<00:00, 31.83it/s]\n"
     ]
    },
    {
     "name": "stdout",
     "output_type": "stream",
     "text": [
      "accuracy:  0.5525\n"
     ]
    },
    {
     "name": "stderr",
     "output_type": "stream",
     "text": [
      "epoch[ 60/100]|Training: 100%|██████████| 63/63 [00:02<00:00, 21.46it/s,  loss 0.5988 accuracy 0.8631]\n",
      "100%|██████████| 13/13 [00:00<00:00, 39.01it/s]\n"
     ]
    },
    {
     "name": "stdout",
     "output_type": "stream",
     "text": [
      "accuracy:  0.5825\n"
     ]
    },
    {
     "name": "stderr",
     "output_type": "stream",
     "text": [
      "epoch[ 61/100]|Training: 100%|██████████| 63/63 [00:02<00:00, 25.84it/s,  loss 1.1703 accuracy 0.8636]\n",
      "100%|██████████| 13/13 [00:00<00:00, 31.68it/s]\n"
     ]
    },
    {
     "name": "stdout",
     "output_type": "stream",
     "text": [
      "accuracy:  0.5725\n"
     ]
    },
    {
     "name": "stderr",
     "output_type": "stream",
     "text": [
      "epoch[ 62/100]|Training: 100%|██████████| 63/63 [00:02<00:00, 22.06it/s,  loss 0.3811 accuracy 0.8586]\n",
      "100%|██████████| 13/13 [00:00<00:00, 43.60it/s]\n"
     ]
    },
    {
     "name": "stdout",
     "output_type": "stream",
     "text": [
      "accuracy:  0.5575\n"
     ]
    },
    {
     "name": "stderr",
     "output_type": "stream",
     "text": [
      "epoch[ 63/100]|Training: 100%|██████████| 63/63 [00:02<00:00, 22.75it/s,  loss 0.3697 accuracy 0.8690]\n",
      "100%|██████████| 13/13 [00:00<00:00, 29.88it/s]\n"
     ]
    },
    {
     "name": "stdout",
     "output_type": "stream",
     "text": [
      "accuracy:  0.5575\n"
     ]
    },
    {
     "name": "stderr",
     "output_type": "stream",
     "text": [
      "epoch[ 64/100]|Training: 100%|██████████| 63/63 [00:02<00:00, 23.78it/s,  loss 0.5130 accuracy 0.8616]\n",
      "100%|██████████| 13/13 [00:00<00:00, 32.92it/s]\n"
     ]
    },
    {
     "name": "stdout",
     "output_type": "stream",
     "text": [
      "accuracy:  0.525\n"
     ]
    },
    {
     "name": "stderr",
     "output_type": "stream",
     "text": [
      "epoch[ 65/100]|Training: 100%|██████████| 63/63 [00:02<00:00, 28.30it/s,  loss 0.2824 accuracy 0.8834]\n",
      "100%|██████████| 13/13 [00:00<00:00, 32.60it/s]\n"
     ]
    },
    {
     "name": "stdout",
     "output_type": "stream",
     "text": [
      "accuracy:  0.5325\n"
     ]
    },
    {
     "name": "stderr",
     "output_type": "stream",
     "text": [
      "epoch[ 66/100]|Training: 100%|██████████| 63/63 [00:02<00:00, 26.48it/s,  loss 0.4289 accuracy 0.8854]\n",
      "100%|██████████| 13/13 [00:00<00:00, 38.10it/s]\n"
     ]
    },
    {
     "name": "stdout",
     "output_type": "stream",
     "text": [
      "accuracy:  0.535\n"
     ]
    },
    {
     "name": "stderr",
     "output_type": "stream",
     "text": [
      "epoch[ 67/100]|Training: 100%|██████████| 63/63 [00:02<00:00, 23.35it/s,  loss 0.6216 accuracy 0.8725]\n",
      "100%|██████████| 13/13 [00:00<00:00, 36.39it/s]\n"
     ]
    },
    {
     "name": "stdout",
     "output_type": "stream",
     "text": [
      "accuracy:  0.5625\n"
     ]
    },
    {
     "name": "stderr",
     "output_type": "stream",
     "text": [
      "epoch[ 68/100]|Training: 100%|██████████| 63/63 [00:02<00:00, 23.34it/s,  loss 0.3296 accuracy 0.8844]\n",
      "100%|██████████| 13/13 [00:00<00:00, 39.49it/s]\n"
     ]
    },
    {
     "name": "stdout",
     "output_type": "stream",
     "text": [
      "accuracy:  0.5175\n"
     ]
    },
    {
     "name": "stderr",
     "output_type": "stream",
     "text": [
      "epoch[ 69/100]|Training: 100%|██████████| 63/63 [00:02<00:00, 21.32it/s,  loss 0.4088 accuracy 0.8745]\n",
      "100%|██████████| 13/13 [00:00<00:00, 41.31it/s]\n"
     ]
    },
    {
     "name": "stdout",
     "output_type": "stream",
     "text": [
      "accuracy:  0.535\n"
     ]
    },
    {
     "name": "stderr",
     "output_type": "stream",
     "text": [
      "epoch[ 70/100]|Training: 100%|██████████| 63/63 [00:02<00:00, 22.04it/s,  loss 0.2260 accuracy 0.8844]\n",
      "100%|██████████| 13/13 [00:00<00:00, 33.39it/s]\n"
     ]
    },
    {
     "name": "stdout",
     "output_type": "stream",
     "text": [
      "accuracy:  0.5475\n"
     ]
    },
    {
     "name": "stderr",
     "output_type": "stream",
     "text": [
      "epoch[ 71/100]|Training: 100%|██████████| 63/63 [00:02<00:00, 26.28it/s,  loss 0.4902 accuracy 0.8576]\n",
      "100%|██████████| 13/13 [00:00<00:00, 32.06it/s]\n"
     ]
    },
    {
     "name": "stdout",
     "output_type": "stream",
     "text": [
      "accuracy:  0.545\n"
     ]
    },
    {
     "name": "stderr",
     "output_type": "stream",
     "text": [
      "epoch[ 72/100]|Training: 100%|██████████| 63/63 [00:02<00:00, 23.70it/s,  loss 0.4359 accuracy 0.8889]\n",
      "100%|██████████| 13/13 [00:00<00:00, 30.21it/s]\n"
     ]
    },
    {
     "name": "stdout",
     "output_type": "stream",
     "text": [
      "accuracy:  0.5675\n"
     ]
    },
    {
     "name": "stderr",
     "output_type": "stream",
     "text": [
      "epoch[ 73/100]|Training: 100%|██████████| 63/63 [00:02<00:00, 26.08it/s,  loss 0.9636 accuracy 0.8864]\n",
      "100%|██████████| 13/13 [00:00<00:00, 34.91it/s]\n"
     ]
    },
    {
     "name": "stdout",
     "output_type": "stream",
     "text": [
      "accuracy:  0.59\n"
     ]
    },
    {
     "name": "stderr",
     "output_type": "stream",
     "text": [
      "epoch[ 74/100]|Training: 100%|██████████| 63/63 [00:02<00:00, 25.82it/s,  loss 0.3959 accuracy 0.8760]\n",
      "100%|██████████| 13/13 [00:00<00:00, 24.92it/s]\n"
     ]
    },
    {
     "name": "stdout",
     "output_type": "stream",
     "text": [
      "accuracy:  0.5175\n"
     ]
    },
    {
     "name": "stderr",
     "output_type": "stream",
     "text": [
      "epoch[ 75/100]|Training: 100%|██████████| 63/63 [00:02<00:00, 22.67it/s,  loss 0.3052 accuracy 0.8834]\n",
      "100%|██████████| 13/13 [00:00<00:00, 38.66it/s]\n"
     ]
    },
    {
     "name": "stdout",
     "output_type": "stream",
     "text": [
      "accuracy:  0.545\n"
     ]
    },
    {
     "name": "stderr",
     "output_type": "stream",
     "text": [
      "epoch[ 76/100]|Training: 100%|██████████| 63/63 [00:02<00:00, 25.94it/s,  loss 0.4509 accuracy 0.8914]\n",
      "100%|██████████| 13/13 [00:00<00:00, 40.41it/s]\n"
     ]
    },
    {
     "name": "stdout",
     "output_type": "stream",
     "text": [
      "accuracy:  0.565\n"
     ]
    },
    {
     "name": "stderr",
     "output_type": "stream",
     "text": [
      "epoch[ 77/100]|Training: 100%|██████████| 63/63 [00:02<00:00, 27.05it/s,  loss 0.4184 accuracy 0.8904]\n",
      "100%|██████████| 13/13 [00:00<00:00, 35.87it/s]\n"
     ]
    },
    {
     "name": "stdout",
     "output_type": "stream",
     "text": [
      "accuracy:  0.57\n"
     ]
    },
    {
     "name": "stderr",
     "output_type": "stream",
     "text": [
      "epoch[ 78/100]|Training: 100%|██████████| 63/63 [00:04<00:00, 15.53it/s,  loss 0.3328 accuracy 0.8824]\n",
      "100%|██████████| 13/13 [00:00<00:00, 33.35it/s]\n"
     ]
    },
    {
     "name": "stdout",
     "output_type": "stream",
     "text": [
      "accuracy:  0.5225\n"
     ]
    },
    {
     "name": "stderr",
     "output_type": "stream",
     "text": [
      "epoch[ 79/100]|Training: 100%|██████████| 63/63 [00:03<00:00, 19.55it/s,  loss 0.5424 accuracy 0.8919]\n",
      "100%|██████████| 13/13 [00:00<00:00, 31.71it/s]\n"
     ]
    },
    {
     "name": "stdout",
     "output_type": "stream",
     "text": [
      "accuracy:  0.595\n"
     ]
    },
    {
     "name": "stderr",
     "output_type": "stream",
     "text": [
      "epoch[ 80/100]|Training: 100%|██████████| 63/63 [00:02<00:00, 23.05it/s,  loss 0.1627 accuracy 0.8973]\n",
      "100%|██████████| 13/13 [00:00<00:00, 29.00it/s]\n"
     ]
    },
    {
     "name": "stdout",
     "output_type": "stream",
     "text": [
      "accuracy:  0.5475\n"
     ]
    },
    {
     "name": "stderr",
     "output_type": "stream",
     "text": [
      "epoch[ 81/100]|Training: 100%|██████████| 63/63 [00:02<00:00, 23.68it/s,  loss 0.1917 accuracy 0.9058]\n",
      "100%|██████████| 13/13 [00:00<00:00, 31.87it/s]\n"
     ]
    },
    {
     "name": "stdout",
     "output_type": "stream",
     "text": [
      "accuracy:  0.5875\n"
     ]
    },
    {
     "name": "stderr",
     "output_type": "stream",
     "text": [
      "epoch[ 82/100]|Training: 100%|██████████| 63/63 [00:02<00:00, 24.55it/s,  loss 1.1175 accuracy 0.8973]\n",
      "100%|██████████| 13/13 [00:00<00:00, 24.78it/s]\n"
     ]
    },
    {
     "name": "stdout",
     "output_type": "stream",
     "text": [
      "accuracy:  0.565\n"
     ]
    },
    {
     "name": "stderr",
     "output_type": "stream",
     "text": [
      "epoch[ 83/100]|Training: 100%|██████████| 63/63 [00:03<00:00, 17.59it/s,  loss 0.1838 accuracy 0.8983]\n",
      "100%|██████████| 13/13 [00:00<00:00, 31.04it/s]\n"
     ]
    },
    {
     "name": "stdout",
     "output_type": "stream",
     "text": [
      "accuracy:  0.5725\n"
     ]
    },
    {
     "name": "stderr",
     "output_type": "stream",
     "text": [
      "epoch[ 84/100]|Training: 100%|██████████| 63/63 [00:03<00:00, 19.53it/s,  loss 0.0729 accuracy 0.9117]\n",
      "100%|██████████| 13/13 [00:00<00:00, 41.00it/s]\n"
     ]
    },
    {
     "name": "stdout",
     "output_type": "stream",
     "text": [
      "accuracy:  0.55\n"
     ]
    },
    {
     "name": "stderr",
     "output_type": "stream",
     "text": [
      "epoch[ 85/100]|Training: 100%|██████████| 63/63 [00:02<00:00, 25.37it/s,  loss 0.3109 accuracy 0.9087]\n",
      "100%|██████████| 13/13 [00:00<00:00, 36.32it/s]\n"
     ]
    },
    {
     "name": "stdout",
     "output_type": "stream",
     "text": [
      "accuracy:  0.59\n"
     ]
    },
    {
     "name": "stderr",
     "output_type": "stream",
     "text": [
      "epoch[ 86/100]|Training: 100%|██████████| 63/63 [00:02<00:00, 25.49it/s,  loss 0.3706 accuracy 0.8929]\n",
      "100%|██████████| 13/13 [00:00<00:00, 33.43it/s]\n"
     ]
    },
    {
     "name": "stdout",
     "output_type": "stream",
     "text": [
      "accuracy:  0.525\n"
     ]
    },
    {
     "name": "stderr",
     "output_type": "stream",
     "text": [
      "epoch[ 87/100]|Training: 100%|██████████| 63/63 [00:02<00:00, 22.68it/s,  loss 0.0850 accuracy 0.8904]\n",
      "100%|██████████| 13/13 [00:00<00:00, 30.93it/s]\n"
     ]
    },
    {
     "name": "stdout",
     "output_type": "stream",
     "text": [
      "accuracy:  0.5425\n"
     ]
    },
    {
     "name": "stderr",
     "output_type": "stream",
     "text": [
      "epoch[ 88/100]|Training: 100%|██████████| 63/63 [00:02<00:00, 22.09it/s,  loss 0.0996 accuracy 0.9077]\n",
      "100%|██████████| 13/13 [00:00<00:00, 35.90it/s]\n"
     ]
    },
    {
     "name": "stdout",
     "output_type": "stream",
     "text": [
      "accuracy:  0.5925\n"
     ]
    },
    {
     "name": "stderr",
     "output_type": "stream",
     "text": [
      "epoch[ 89/100]|Training: 100%|██████████| 63/63 [00:03<00:00, 17.12it/s,  loss 0.0488 accuracy 0.9003]\n",
      "100%|██████████| 13/13 [00:00<00:00, 33.30it/s]\n"
     ]
    },
    {
     "name": "stdout",
     "output_type": "stream",
     "text": [
      "accuracy:  0.565\n"
     ]
    },
    {
     "name": "stderr",
     "output_type": "stream",
     "text": [
      "epoch[ 90/100]|Training: 100%|██████████| 63/63 [00:02<00:00, 25.88it/s,  loss 0.2377 accuracy 0.8929]\n",
      "100%|██████████| 13/13 [00:00<00:00, 28.31it/s]\n"
     ]
    },
    {
     "name": "stdout",
     "output_type": "stream",
     "text": [
      "accuracy:  0.5775\n"
     ]
    },
    {
     "name": "stderr",
     "output_type": "stream",
     "text": [
      "epoch[ 91/100]|Training: 100%|██████████| 63/63 [00:02<00:00, 28.06it/s,  loss 0.2655 accuracy 0.8929]\n",
      "100%|██████████| 13/13 [00:00<00:00, 31.17it/s]\n"
     ]
    },
    {
     "name": "stdout",
     "output_type": "stream",
     "text": [
      "accuracy:  0.565\n"
     ]
    },
    {
     "name": "stderr",
     "output_type": "stream",
     "text": [
      "epoch[ 92/100]|Training: 100%|██████████| 63/63 [00:02<00:00, 24.18it/s,  loss 0.3044 accuracy 0.9013]\n",
      "100%|██████████| 13/13 [00:00<00:00, 28.47it/s]\n"
     ]
    },
    {
     "name": "stdout",
     "output_type": "stream",
     "text": [
      "accuracy:  0.52\n"
     ]
    },
    {
     "name": "stderr",
     "output_type": "stream",
     "text": [
      "epoch[ 93/100]|Training: 100%|██████████| 63/63 [00:02<00:00, 27.60it/s,  loss 0.3670 accuracy 0.9018]\n",
      "100%|██████████| 13/13 [00:00<00:00, 29.27it/s]\n"
     ]
    },
    {
     "name": "stdout",
     "output_type": "stream",
     "text": [
      "accuracy:  0.5675\n"
     ]
    },
    {
     "name": "stderr",
     "output_type": "stream",
     "text": [
      "epoch[ 94/100]|Training: 100%|██████████| 63/63 [00:02<00:00, 27.04it/s,  loss 0.2969 accuracy 0.9246]\n",
      "100%|██████████| 13/13 [00:00<00:00, 31.44it/s]\n"
     ]
    },
    {
     "name": "stdout",
     "output_type": "stream",
     "text": [
      "accuracy:  0.6\n"
     ]
    },
    {
     "name": "stderr",
     "output_type": "stream",
     "text": [
      "epoch[ 95/100]|Training: 100%|██████████| 63/63 [00:02<00:00, 28.40it/s,  loss 0.0656 accuracy 0.9107]\n",
      "100%|██████████| 13/13 [00:00<00:00, 30.33it/s]\n"
     ]
    },
    {
     "name": "stdout",
     "output_type": "stream",
     "text": [
      "accuracy:  0.53\n"
     ]
    },
    {
     "name": "stderr",
     "output_type": "stream",
     "text": [
      "epoch[ 96/100]|Training: 100%|██████████| 63/63 [00:02<00:00, 27.19it/s,  loss 0.3067 accuracy 0.9196]\n",
      "100%|██████████| 13/13 [00:00<00:00, 31.95it/s]\n"
     ]
    },
    {
     "name": "stdout",
     "output_type": "stream",
     "text": [
      "accuracy:  0.585\n"
     ]
    },
    {
     "name": "stderr",
     "output_type": "stream",
     "text": [
      "epoch[ 97/100]|Training: 100%|██████████| 63/63 [00:02<00:00, 29.28it/s,  loss 0.1858 accuracy 0.9236]\n",
      "100%|██████████| 13/13 [00:00<00:00, 29.09it/s]\n"
     ]
    },
    {
     "name": "stdout",
     "output_type": "stream",
     "text": [
      "accuracy:  0.5575\n"
     ]
    },
    {
     "name": "stderr",
     "output_type": "stream",
     "text": [
      "epoch[ 98/100]|Training: 100%|██████████| 63/63 [00:02<00:00, 28.05it/s,  loss 0.4835 accuracy 0.9191]\n",
      "100%|██████████| 13/13 [00:00<00:00, 28.04it/s]\n"
     ]
    },
    {
     "name": "stdout",
     "output_type": "stream",
     "text": [
      "accuracy:  0.5475\n"
     ]
    },
    {
     "name": "stderr",
     "output_type": "stream",
     "text": [
      "epoch[ 99/100]|Training: 100%|██████████| 63/63 [00:02<00:00, 27.81it/s,  loss 0.1628 accuracy 0.9122]\n",
      "100%|██████████| 13/13 [00:00<00:00, 31.42it/s]\n"
     ]
    },
    {
     "name": "stdout",
     "output_type": "stream",
     "text": [
      "accuracy:  0.565\n"
     ]
    },
    {
     "name": "stderr",
     "output_type": "stream",
     "text": [
      "epoch[100/100]|Training: 100%|██████████| 63/63 [00:02<00:00, 27.41it/s,  loss 0.3622 accuracy 0.9077]\n",
      "100%|██████████| 13/13 [00:00<00:00, 32.71it/s]"
     ]
    },
    {
     "name": "stdout",
     "output_type": "stream",
     "text": [
      "accuracy:  0.5125\n"
     ]
    },
    {
     "name": "stderr",
     "output_type": "stream",
     "text": [
      "\n"
     ]
    }
   ],
   "source": [
    "num_epochs=100\n",
    "loss_cnn_train_list=[]\n",
    "loss_cnn_test_list=[]\n",
    "acc_cnn_train_list=[]\n",
    "acc_cnn_test_list=[]\n",
    "for i in range(num_epochs):\n",
    "    loss_cnn_train,acc_cnn_train=train(i,num_epochs,model_cnn)\n",
    "    loss_cnn_train_list.append(loss_cnn_train)\n",
    "    acc_cnn_train_list.append(acc_cnn_train)\n",
    "\n",
    "    loss_cnn_test,acc_cnn_test=test(model_cnn)\n",
    "    loss_cnn_test_list.append(loss_cnn_test)\n",
    "    acc_cnn_test_list.append(acc_cnn_test)\n"
   ]
  },
  {
   "cell_type": "code",
   "execution_count": 9,
   "metadata": {},
   "outputs": [
    {
     "data": {
      "image/png": "[encoded data removed]",
      "text/plain": [
       "<Figure size 640x480 with 1 Axes>"
      ]
     },
     "metadata": {},
     "output_type": "display_data"
    }
   ],
   "source": [
    "import matplotlib.pyplot as plt\n",
    "\n",
    "\n",
    "y = loss_cnn_train_list\n",
    "y_test=loss_cnn_test_list\n",
    "plt.title('training and testing loss')\n",
    "plt.plot(y,label='train')\n",
    "plt.plot(y_test, label='test')\n",
    "plt.xlabel('Epoch')\n",
    "plt.ylabel('Loss')\n",
    "plt.legend()\n",
    "plt.show()"
   ]
  },
  {
   "cell_type": "code",
   "execution_count": 10,
   "metadata": {},
   "outputs": [
    {
     "data": {
      "image/png": "[encoded data removed]",
      "text/plain": [
       "<Figure size 640x480 with 1 Axes>"
      ]
     },
     "metadata": {},
     "output_type": "display_data"
    }
   ],
   "source": [
    "y =acc_cnn_train_list\n",
    "y_test=acc_cnn_test_list\n",
    "plt.title('training and testing accuracy')\n",
    "plt.plot(y,label='train')\n",
    "plt.plot(y_test, label='test')\n",
    "plt.xlabel('Epoch')\n",
    "plt.ylabel('Accuracy')\n",
    "plt.legend()\n",
    "plt.show()"
   ]
  },
  {
   "attachments": {},
   "cell_type": "markdown",
   "metadata": {},
   "source": [
    "2.(a)"
   ]
  },
  {
   "cell_type": "code",
   "execution_count": 11,
   "metadata": {},
   "outputs": [],
   "source": [
    "class Resnet18(nn.Module):\n",
    "        def __init__(self):\n",
    "            super(Resnet18, self).__init__()\n",
    "            self.cov1=nn.Sequential(\n",
    "                 nn.Conv2d(3,64,3,1,1),\n",
    "                 nn.BatchNorm2d(64),\n",
    "                 nn.ReLU(),\n",
    "                 nn.AvgPool2d(2,2)\n",
    "\n",
    "            )\n",
    "            self.res=nn.Sequential(\n",
    "                 nn.Conv2d(64,64,3,1,1),\n",
    "                 nn.BatchNorm2d(64),\n",
    "                 nn.ReLU(),\n",
    "                 nn.Conv2d(64,64,3,1,1),\n",
    "                 nn.BatchNorm2d(64),\n",
    "                 nn.ReLU()\n",
    "            )\n",
    "            self.res2=nn.Sequential(\n",
    "                 nn.Conv2d(64,128,3,2,1),\n",
    "                 nn.BatchNorm2d(128),\n",
    "                 nn.ReLU(),\n",
    "                 nn.Conv2d(128,128,3,1,1),\n",
    "                 nn.BatchNorm2d(128),\n",
    "                 nn.ReLU()\n",
    "            )\n",
    "            self.res3=nn.Sequential(\n",
    "                 nn.Conv2d(128,128,3,1,1),\n",
    "                 nn.BatchNorm2d(128),\n",
    "                 nn.ReLU(),\n",
    "                 nn.Conv2d(128,128,3,1,1),\n",
    "                 nn.BatchNorm2d(128),\n",
    "                 nn.ReLU()\n",
    "            )\n",
    "            self.res4=nn.Sequential(\n",
    "                 nn.Conv2d(128,256,3,2,1),\n",
    "                 nn.BatchNorm2d(256),\n",
    "                 nn.ReLU(),\n",
    "                 nn.Conv2d(256,256,3,1,1),\n",
    "                 nn.BatchNorm2d(256),\n",
    "                 nn.ReLU()\n",
    "            )\n",
    "            self.res5=nn.Sequential(\n",
    "                 nn.Conv2d(256,256,3,1,1),\n",
    "                 nn.BatchNorm2d(256),\n",
    "                 nn.ReLU(),\n",
    "                 nn.Conv2d(256,256,3,1,1),\n",
    "                 nn.BatchNorm2d(256),\n",
    "                 nn.ReLU()\n",
    "            )\n",
    "            self.res6=nn.Sequential(\n",
    "                 nn.Conv2d(256,512,3,2,1),\n",
    "                 nn.BatchNorm2d(512),\n",
    "                 nn.ReLU(),\n",
    "                 nn.Conv2d(512,512,3,1,1),\n",
    "                 nn.BatchNorm2d(512),\n",
    "                 nn.ReLU()\n",
    "            )\n",
    "            self.res7=nn.Sequential(\n",
    "                 nn.Conv2d(512,512,3,1,1),\n",
    "                 nn.BatchNorm2d(512),\n",
    "                 nn.ReLU(),\n",
    "                 \n",
    "                 nn.Conv2d(512,512,3,1,1),\n",
    "                 nn.BatchNorm2d(512),\n",
    "                 nn.ReLU(),\n",
    "                 nn.AvgPool2d(2,2)\n",
    "            )\n",
    "            self.change_shape1=nn.Sequential(\n",
    "                 nn.Conv2d(64,128,3,2,1),\n",
    "                 nn.BatchNorm2d(128)\n",
    "            )\n",
    "            self.change_shape2=nn.Sequential(\n",
    "                 nn.Conv2d(128,256,3,2,1),\n",
    "                 nn.BatchNorm2d(256)\n",
    "            )\n",
    "            self.change_shape3=nn.Sequential(\n",
    "                 nn.Conv2d(256,512,3,2,1),\n",
    "                 nn.BatchNorm2d(512),\n",
    "                 \n",
    "            )\n",
    "            self.change_shape4=nn.Sequential(\n",
    "                 nn.Conv2d(512,512,3,2,1),\n",
    "                 nn.BatchNorm2d(512),\n",
    "                 \n",
    "            )\n",
    "            \n",
    "            self.fc=nn.Sequential(\n",
    "                 nn.Dropout(0.2),\n",
    "                 nn.Linear(512,10),\n",
    "\n",
    "            )\n",
    "        def forward(self, x):\n",
    "            x=self.cov1(x)\n",
    "            #layer1\n",
    "            cut=x\n",
    "            x=self.res(x)\n",
    "            x=x+cut\n",
    "            x=F.relu(x)\n",
    "            cut=x\n",
    "            x=self.res(x)\n",
    "            x=x+cut\n",
    "            x=F.relu(x)\n",
    "            cut=x\n",
    "            #print('layer1 output:',cut.shape)\n",
    "            #layer2\n",
    "            x=self.res2(x)\n",
    "            cut=self.change_shape1(cut)\n",
    "            x=x+cut\n",
    "            x=F.relu(x)\n",
    "            cut=x\n",
    "            x=self.res3(x)\n",
    "            x=x+cut\n",
    "            x=F.relu(x)\n",
    "            cut=x\n",
    "            #print('layer2 output:',cut.shape)\n",
    "            #layer3\n",
    "            x=self.res4(x)\n",
    "            cut=self.change_shape2(cut)\n",
    "            x=x+cut\n",
    "            x=F.relu(x)\n",
    "            cut=x\n",
    "            x=self.res5(x)\n",
    "            x=x+cut\n",
    "            x=F.relu(x)\n",
    "            cut=x\n",
    "            #print('layer3 output:',cut.shape)\n",
    "            #layer4\n",
    "            x=self.res6(x)\n",
    "            cut=self.change_shape3(cut)\n",
    "            x=x+cut\n",
    "            x=F.relu(x)\n",
    "            cut=x\n",
    "            x=self.res7(x)\n",
    "            cut=self.change_shape4(cut)\n",
    "            x=x+cut\n",
    "            x=F.relu(x)\n",
    "            #print('layer4 output:',cut.shape)\n",
    "            ##fc\n",
    "            x=x.view(x.size(0),-1)\n",
    "            x=self.fc(x)\n",
    "\n",
    "            return x"
   ]
  },
  {
   "cell_type": "code",
   "execution_count": 12,
   "metadata": {},
   "outputs": [],
   "source": [
    "model_res= Resnet18()\n",
    "device = torch.device('cuda' if torch.cuda.is_available() else 'cpu')\n",
    "model_res.to(device)\n",
    "optimizer = torch.optim.Adam(model_res.parameters(),lr=0.001,weight_decay=1e-4)\n",
    "criterion = torch.nn.CrossEntropyLoss()"
   ]
  },
  {
   "cell_type": "code",
   "execution_count": 13,
   "metadata": {},
   "outputs": [
    {
     "name": "stderr",
     "output_type": "stream",
     "text": [
      "epoch[  1/100]|Training: 100%|██████████| 63/63 [00:10<00:00,  6.25it/s,  loss 2.1068 accuracy 0.2118]\n",
      "100%|██████████| 13/13 [00:00<00:00, 23.09it/s]\n"
     ]
    },
    {
     "name": "stdout",
     "output_type": "stream",
     "text": [
      "accuracy:  0.2125\n"
     ]
    },
    {
     "name": "stderr",
     "output_type": "stream",
     "text": [
      "epoch[  2/100]|Training: 100%|██████████| 63/63 [00:10<00:00,  6.19it/s,  loss 1.7278 accuracy 0.2842]\n",
      "100%|██████████| 13/13 [00:00<00:00, 22.93it/s]\n"
     ]
    },
    {
     "name": "stdout",
     "output_type": "stream",
     "text": [
      "accuracy:  0.25\n"
     ]
    },
    {
     "name": "stderr",
     "output_type": "stream",
     "text": [
      "epoch[  3/100]|Training: 100%|██████████| 63/63 [00:10<00:00,  6.20it/s,  loss 1.9999 accuracy 0.3388]\n",
      "100%|██████████| 13/13 [00:00<00:00, 21.46it/s]\n"
     ]
    },
    {
     "name": "stdout",
     "output_type": "stream",
     "text": [
      "accuracy:  0.315\n"
     ]
    },
    {
     "name": "stderr",
     "output_type": "stream",
     "text": [
      "epoch[  4/100]|Training: 100%|██████████| 63/63 [00:10<00:00,  6.20it/s,  loss 1.9627 accuracy 0.3641]\n",
      "100%|██████████| 13/13 [00:00<00:00, 21.43it/s]\n"
     ]
    },
    {
     "name": "stdout",
     "output_type": "stream",
     "text": [
      "accuracy:  0.335\n"
     ]
    },
    {
     "name": "stderr",
     "output_type": "stream",
     "text": [
      "epoch[  5/100]|Training: 100%|██████████| 63/63 [00:10<00:00,  6.28it/s,  loss 1.7065 accuracy 0.4102]\n",
      "100%|██████████| 13/13 [00:00<00:00, 21.80it/s]\n"
     ]
    },
    {
     "name": "stdout",
     "output_type": "stream",
     "text": [
      "accuracy:  0.295\n"
     ]
    },
    {
     "name": "stderr",
     "output_type": "stream",
     "text": [
      "epoch[  6/100]|Training: 100%|██████████| 63/63 [00:10<00:00,  6.24it/s,  loss 1.8278 accuracy 0.4340]\n",
      "100%|██████████| 13/13 [00:00<00:00, 22.33it/s]\n"
     ]
    },
    {
     "name": "stdout",
     "output_type": "stream",
     "text": [
      "accuracy:  0.3125\n"
     ]
    },
    {
     "name": "stderr",
     "output_type": "stream",
     "text": [
      "epoch[  7/100]|Training: 100%|██████████| 63/63 [00:10<00:00,  6.28it/s,  loss 1.7830 accuracy 0.4628]\n",
      "100%|██████████| 13/13 [00:00<00:00, 22.77it/s]\n"
     ]
    },
    {
     "name": "stdout",
     "output_type": "stream",
     "text": [
      "accuracy:  0.3275\n"
     ]
    },
    {
     "name": "stderr",
     "output_type": "stream",
     "text": [
      "epoch[  8/100]|Training: 100%|██████████| 63/63 [00:10<00:00,  6.26it/s,  loss 1.8853 accuracy 0.4980]\n",
      "100%|██████████| 13/13 [00:00<00:00, 22.05it/s]\n"
     ]
    },
    {
     "name": "stdout",
     "output_type": "stream",
     "text": [
      "accuracy:  0.38\n"
     ]
    },
    {
     "name": "stderr",
     "output_type": "stream",
     "text": [
      "epoch[  9/100]|Training: 100%|██████████| 63/63 [00:10<00:00,  6.28it/s,  loss 1.4589 accuracy 0.5337]\n",
      "100%|██████████| 13/13 [00:00<00:00, 22.41it/s]\n"
     ]
    },
    {
     "name": "stdout",
     "output_type": "stream",
     "text": [
      "accuracy:  0.425\n"
     ]
    },
    {
     "name": "stderr",
     "output_type": "stream",
     "text": [
      "epoch[ 10/100]|Training: 100%|██████████| 63/63 [00:09<00:00,  6.34it/s,  loss 0.9560 accuracy 0.5635]\n",
      "100%|██████████| 13/13 [00:00<00:00, 22.81it/s]\n"
     ]
    },
    {
     "name": "stdout",
     "output_type": "stream",
     "text": [
      "accuracy:  0.4\n"
     ]
    },
    {
     "name": "stderr",
     "output_type": "stream",
     "text": [
      "epoch[ 11/100]|Training: 100%|██████████| 63/63 [00:10<00:00,  6.27it/s,  loss 1.2410 accuracy 0.6076]\n",
      "100%|██████████| 13/13 [00:00<00:00, 22.77it/s]\n"
     ]
    },
    {
     "name": "stdout",
     "output_type": "stream",
     "text": [
      "accuracy:  0.34\n"
     ]
    },
    {
     "name": "stderr",
     "output_type": "stream",
     "text": [
      "epoch[ 12/100]|Training: 100%|██████████| 63/63 [00:09<00:00,  6.35it/s,  loss 1.8684 accuracy 0.6195]\n",
      "100%|██████████| 13/13 [00:00<00:00, 23.58it/s]\n"
     ]
    },
    {
     "name": "stdout",
     "output_type": "stream",
     "text": [
      "accuracy:  0.3825\n"
     ]
    },
    {
     "name": "stderr",
     "output_type": "stream",
     "text": [
      "epoch[ 13/100]|Training: 100%|██████████| 63/63 [00:09<00:00,  6.36it/s,  loss 1.3987 accuracy 0.6726]\n",
      "100%|██████████| 13/13 [00:00<00:00, 23.38it/s]\n"
     ]
    },
    {
     "name": "stdout",
     "output_type": "stream",
     "text": [
      "accuracy:  0.365\n"
     ]
    },
    {
     "name": "stderr",
     "output_type": "stream",
     "text": [
      "epoch[ 14/100]|Training: 100%|██████████| 63/63 [00:10<00:00,  6.20it/s,  loss 0.5440 accuracy 0.6885]\n",
      "100%|██████████| 13/13 [00:00<00:00, 23.19it/s]\n"
     ]
    },
    {
     "name": "stdout",
     "output_type": "stream",
     "text": [
      "accuracy:  0.425\n"
     ]
    },
    {
     "name": "stderr",
     "output_type": "stream",
     "text": [
      "epoch[ 15/100]|Training: 100%|██████████| 63/63 [00:09<00:00,  6.33it/s,  loss 1.0123 accuracy 0.7282]\n",
      "100%|██████████| 13/13 [00:00<00:00, 22.29it/s]\n"
     ]
    },
    {
     "name": "stdout",
     "output_type": "stream",
     "text": [
      "accuracy:  0.37\n"
     ]
    },
    {
     "name": "stderr",
     "output_type": "stream",
     "text": [
      "epoch[ 16/100]|Training: 100%|██████████| 63/63 [00:10<00:00,  6.28it/s,  loss 0.9432 accuracy 0.7679]\n",
      "100%|██████████| 13/13 [00:00<00:00, 22.97it/s]\n"
     ]
    },
    {
     "name": "stdout",
     "output_type": "stream",
     "text": [
      "accuracy:  0.365\n"
     ]
    },
    {
     "name": "stderr",
     "output_type": "stream",
     "text": [
      "epoch[ 17/100]|Training: 100%|██████████| 63/63 [00:10<00:00,  6.24it/s,  loss 1.2638 accuracy 0.7574]\n",
      "100%|██████████| 13/13 [00:00<00:00, 24.07it/s]\n"
     ]
    },
    {
     "name": "stdout",
     "output_type": "stream",
     "text": [
      "accuracy:  0.395\n"
     ]
    },
    {
     "name": "stderr",
     "output_type": "stream",
     "text": [
      "epoch[ 18/100]|Training: 100%|██████████| 63/63 [00:10<00:00,  6.27it/s,  loss 0.6261 accuracy 0.7852]\n",
      "100%|██████████| 13/13 [00:00<00:00, 22.93it/s]\n"
     ]
    },
    {
     "name": "stdout",
     "output_type": "stream",
     "text": [
      "accuracy:  0.425\n"
     ]
    },
    {
     "name": "stderr",
     "output_type": "stream",
     "text": [
      "epoch[ 19/100]|Training: 100%|██████████| 63/63 [00:10<00:00,  6.28it/s,  loss 1.0099 accuracy 0.8313]\n",
      "100%|██████████| 13/13 [00:00<00:00, 22.67it/s]\n"
     ]
    },
    {
     "name": "stdout",
     "output_type": "stream",
     "text": [
      "accuracy:  0.3825\n"
     ]
    },
    {
     "name": "stderr",
     "output_type": "stream",
     "text": [
      "epoch[ 20/100]|Training: 100%|██████████| 63/63 [00:10<00:00,  6.24it/s,  loss 0.4900 accuracy 0.8413]\n",
      "100%|██████████| 13/13 [00:00<00:00, 22.34it/s]\n"
     ]
    },
    {
     "name": "stdout",
     "output_type": "stream",
     "text": [
      "accuracy:  0.435\n"
     ]
    },
    {
     "name": "stderr",
     "output_type": "stream",
     "text": [
      "epoch[ 21/100]|Training: 100%|██████████| 63/63 [00:10<00:00,  6.24it/s,  loss 0.5464 accuracy 0.8676]\n",
      "100%|██████████| 13/13 [00:00<00:00, 21.14it/s]\n"
     ]
    },
    {
     "name": "stdout",
     "output_type": "stream",
     "text": [
      "accuracy:  0.445\n"
     ]
    },
    {
     "name": "stderr",
     "output_type": "stream",
     "text": [
      "epoch[ 22/100]|Training: 100%|██████████| 63/63 [00:10<00:00,  6.22it/s,  loss 0.1178 accuracy 0.8790]\n",
      "100%|██████████| 13/13 [00:00<00:00, 22.42it/s]\n"
     ]
    },
    {
     "name": "stdout",
     "output_type": "stream",
     "text": [
      "accuracy:  0.4275\n"
     ]
    },
    {
     "name": "stderr",
     "output_type": "stream",
     "text": [
      "epoch[ 23/100]|Training: 100%|██████████| 63/63 [00:10<00:00,  6.22it/s,  loss 0.7488 accuracy 0.8666]\n",
      "100%|██████████| 13/13 [00:00<00:00, 21.77it/s]\n"
     ]
    },
    {
     "name": "stdout",
     "output_type": "stream",
     "text": [
      "accuracy:  0.47\n"
     ]
    },
    {
     "name": "stderr",
     "output_type": "stream",
     "text": [
      "epoch[ 24/100]|Training: 100%|██████████| 63/63 [00:08<00:00,  7.09it/s,  loss 0.4194 accuracy 0.8805]\n",
      "100%|██████████| 13/13 [00:00<00:00, 22.36it/s]\n"
     ]
    },
    {
     "name": "stdout",
     "output_type": "stream",
     "text": [
      "accuracy:  0.4425\n"
     ]
    },
    {
     "name": "stderr",
     "output_type": "stream",
     "text": [
      "epoch[ 25/100]|Training: 100%|██████████| 63/63 [00:10<00:00,  6.22it/s,  loss 0.1678 accuracy 0.9191]\n",
      "100%|██████████| 13/13 [00:00<00:00, 23.08it/s]\n"
     ]
    },
    {
     "name": "stdout",
     "output_type": "stream",
     "text": [
      "accuracy:  0.44\n"
     ]
    },
    {
     "name": "stderr",
     "output_type": "stream",
     "text": [
      "epoch[ 26/100]|Training: 100%|██████████| 63/63 [00:09<00:00,  6.32it/s,  loss 0.0947 accuracy 0.9082]\n",
      "100%|██████████| 13/13 [00:00<00:00, 22.53it/s]\n"
     ]
    },
    {
     "name": "stdout",
     "output_type": "stream",
     "text": [
      "accuracy:  0.4225\n"
     ]
    },
    {
     "name": "stderr",
     "output_type": "stream",
     "text": [
      "epoch[ 27/100]|Training: 100%|██████████| 63/63 [00:09<00:00,  6.33it/s,  loss 0.0625 accuracy 0.9137]\n",
      "100%|██████████| 13/13 [00:00<00:00, 20.00it/s]\n"
     ]
    },
    {
     "name": "stdout",
     "output_type": "stream",
     "text": [
      "accuracy:  0.4525\n"
     ]
    },
    {
     "name": "stderr",
     "output_type": "stream",
     "text": [
      "epoch[ 28/100]|Training: 100%|██████████| 63/63 [00:10<00:00,  6.28it/s,  loss 0.3173 accuracy 0.9107]\n",
      "100%|██████████| 13/13 [00:00<00:00, 22.31it/s]\n"
     ]
    },
    {
     "name": "stdout",
     "output_type": "stream",
     "text": [
      "accuracy:  0.4525\n"
     ]
    },
    {
     "name": "stderr",
     "output_type": "stream",
     "text": [
      "epoch[ 29/100]|Training: 100%|██████████| 63/63 [00:10<00:00,  6.24it/s,  loss 0.1070 accuracy 0.9172]\n",
      "100%|██████████| 13/13 [00:00<00:00, 18.58it/s]\n"
     ]
    },
    {
     "name": "stdout",
     "output_type": "stream",
     "text": [
      "accuracy:  0.445\n"
     ]
    },
    {
     "name": "stderr",
     "output_type": "stream",
     "text": [
      "epoch[ 30/100]|Training: 100%|██████████| 63/63 [00:10<00:00,  6.28it/s,  loss 0.3994 accuracy 0.9172]\n",
      "100%|██████████| 13/13 [00:00<00:00, 23.58it/s]\n"
     ]
    },
    {
     "name": "stdout",
     "output_type": "stream",
     "text": [
      "accuracy:  0.44\n"
     ]
    },
    {
     "name": "stderr",
     "output_type": "stream",
     "text": [
      "epoch[ 31/100]|Training: 100%|██████████| 63/63 [00:09<00:00,  6.36it/s,  loss 0.2180 accuracy 0.9221]\n",
      "100%|██████████| 13/13 [00:00<00:00, 23.05it/s]\n"
     ]
    },
    {
     "name": "stdout",
     "output_type": "stream",
     "text": [
      "accuracy:  0.4575\n"
     ]
    },
    {
     "name": "stderr",
     "output_type": "stream",
     "text": [
      "epoch[ 32/100]|Training: 100%|██████████| 63/63 [00:09<00:00,  6.31it/s,  loss 0.2338 accuracy 0.9191]\n",
      "100%|██████████| 13/13 [00:00<00:00, 22.01it/s]\n"
     ]
    },
    {
     "name": "stdout",
     "output_type": "stream",
     "text": [
      "accuracy:  0.455\n"
     ]
    },
    {
     "name": "stderr",
     "output_type": "stream",
     "text": [
      "epoch[ 33/100]|Training: 100%|██████████| 63/63 [00:08<00:00,  7.21it/s,  loss 0.3761 accuracy 0.9271]\n",
      "100%|██████████| 13/13 [00:00<00:00, 22.57it/s]\n"
     ]
    },
    {
     "name": "stdout",
     "output_type": "stream",
     "text": [
      "accuracy:  0.4675\n"
     ]
    },
    {
     "name": "stderr",
     "output_type": "stream",
     "text": [
      "epoch[ 34/100]|Training: 100%|██████████| 63/63 [00:07<00:00,  8.18it/s,  loss 0.0619 accuracy 0.9226]\n",
      "100%|██████████| 13/13 [00:00<00:00, 21.32it/s]\n"
     ]
    },
    {
     "name": "stdout",
     "output_type": "stream",
     "text": [
      "accuracy:  0.43\n"
     ]
    },
    {
     "name": "stderr",
     "output_type": "stream",
     "text": [
      "epoch[ 35/100]|Training: 100%|██████████| 63/63 [00:09<00:00,  6.94it/s,  loss 0.5167 accuracy 0.9231]\n",
      "100%|██████████| 13/13 [00:00<00:00, 22.54it/s]\n"
     ]
    },
    {
     "name": "stdout",
     "output_type": "stream",
     "text": [
      "accuracy:  0.46\n"
     ]
    },
    {
     "name": "stderr",
     "output_type": "stream",
     "text": [
      "epoch[ 36/100]|Training: 100%|██████████| 63/63 [00:08<00:00,  7.76it/s,  loss 0.2293 accuracy 0.9454]\n",
      "100%|██████████| 13/13 [00:00<00:00, 23.36it/s]\n"
     ]
    },
    {
     "name": "stdout",
     "output_type": "stream",
     "text": [
      "accuracy:  0.475\n"
     ]
    },
    {
     "name": "stderr",
     "output_type": "stream",
     "text": [
      "epoch[ 37/100]|Training: 100%|██████████| 63/63 [00:08<00:00,  7.26it/s,  loss 0.3212 accuracy 0.9459]\n",
      "100%|██████████| 13/13 [00:00<00:00, 22.25it/s]\n"
     ]
    },
    {
     "name": "stdout",
     "output_type": "stream",
     "text": [
      "accuracy:  0.49\n"
     ]
    },
    {
     "name": "stderr",
     "output_type": "stream",
     "text": [
      "epoch[ 38/100]|Training: 100%|██████████| 63/63 [00:07<00:00,  8.10it/s,  loss 0.0622 accuracy 0.9420]\n",
      "100%|██████████| 13/13 [00:00<00:00, 24.32it/s]\n"
     ]
    },
    {
     "name": "stdout",
     "output_type": "stream",
     "text": [
      "accuracy:  0.4325\n"
     ]
    },
    {
     "name": "stderr",
     "output_type": "stream",
     "text": [
      "epoch[ 39/100]|Training: 100%|██████████| 63/63 [00:07<00:00,  8.35it/s,  loss 0.4018 accuracy 0.9370]\n",
      "100%|██████████| 13/13 [00:00<00:00, 24.56it/s]\n"
     ]
    },
    {
     "name": "stdout",
     "output_type": "stream",
     "text": [
      "accuracy:  0.435\n"
     ]
    },
    {
     "name": "stderr",
     "output_type": "stream",
     "text": [
      "epoch[ 40/100]|Training: 100%|██████████| 63/63 [00:08<00:00,  7.38it/s,  loss 0.1534 accuracy 0.9464]\n",
      "100%|██████████| 13/13 [00:00<00:00, 22.15it/s]\n"
     ]
    },
    {
     "name": "stdout",
     "output_type": "stream",
     "text": [
      "accuracy:  0.4225\n"
     ]
    },
    {
     "name": "stderr",
     "output_type": "stream",
     "text": [
      "epoch[ 41/100]|Training: 100%|██████████| 63/63 [00:09<00:00,  6.66it/s,  loss 0.0240 accuracy 0.9489]\n",
      "100%|██████████| 13/13 [00:00<00:00, 22.07it/s]\n"
     ]
    },
    {
     "name": "stdout",
     "output_type": "stream",
     "text": [
      "accuracy:  0.4275\n"
     ]
    },
    {
     "name": "stderr",
     "output_type": "stream",
     "text": [
      "epoch[ 42/100]|Training: 100%|██████████| 63/63 [00:09<00:00,  6.64it/s,  loss 0.0049 accuracy 0.9563]\n",
      "100%|██████████| 13/13 [00:00<00:00, 21.95it/s]\n"
     ]
    },
    {
     "name": "stdout",
     "output_type": "stream",
     "text": [
      "accuracy:  0.46\n"
     ]
    },
    {
     "name": "stderr",
     "output_type": "stream",
     "text": [
      "epoch[ 43/100]|Training: 100%|██████████| 63/63 [00:09<00:00,  6.49it/s,  loss 0.2287 accuracy 0.9410]\n",
      "100%|██████████| 13/13 [00:00<00:00, 22.77it/s]\n"
     ]
    },
    {
     "name": "stdout",
     "output_type": "stream",
     "text": [
      "accuracy:  0.425\n"
     ]
    },
    {
     "name": "stderr",
     "output_type": "stream",
     "text": [
      "epoch[ 44/100]|Training: 100%|██████████| 63/63 [00:09<00:00,  6.58it/s,  loss 0.3333 accuracy 0.9375]\n",
      "100%|██████████| 13/13 [00:00<00:00, 21.03it/s]\n"
     ]
    },
    {
     "name": "stdout",
     "output_type": "stream",
     "text": [
      "accuracy:  0.4825\n"
     ]
    },
    {
     "name": "stderr",
     "output_type": "stream",
     "text": [
      "epoch[ 45/100]|Training: 100%|██████████| 63/63 [00:09<00:00,  6.60it/s,  loss 0.0338 accuracy 0.9494]\n",
      "100%|██████████| 13/13 [00:00<00:00, 22.73it/s]\n"
     ]
    },
    {
     "name": "stdout",
     "output_type": "stream",
     "text": [
      "accuracy:  0.475\n"
     ]
    },
    {
     "name": "stderr",
     "output_type": "stream",
     "text": [
      "epoch[ 46/100]|Training: 100%|██████████| 63/63 [00:09<00:00,  6.64it/s,  loss 0.3232 accuracy 0.9439]\n",
      "100%|██████████| 13/13 [00:00<00:00, 22.32it/s]\n"
     ]
    },
    {
     "name": "stdout",
     "output_type": "stream",
     "text": [
      "accuracy:  0.475\n"
     ]
    },
    {
     "name": "stderr",
     "output_type": "stream",
     "text": [
      "epoch[ 47/100]|Training: 100%|██████████| 63/63 [00:09<00:00,  6.35it/s,  loss 0.3067 accuracy 0.9375]\n",
      "100%|██████████| 13/13 [00:00<00:00, 22.22it/s]\n"
     ]
    },
    {
     "name": "stdout",
     "output_type": "stream",
     "text": [
      "accuracy:  0.4825\n"
     ]
    },
    {
     "name": "stderr",
     "output_type": "stream",
     "text": [
      "epoch[ 48/100]|Training: 100%|██████████| 63/63 [00:09<00:00,  6.38it/s,  loss 0.4645 accuracy 0.9524]\n",
      "100%|██████████| 13/13 [00:00<00:00, 20.15it/s]\n"
     ]
    },
    {
     "name": "stdout",
     "output_type": "stream",
     "text": [
      "accuracy:  0.4775\n"
     ]
    },
    {
     "name": "stderr",
     "output_type": "stream",
     "text": [
      "epoch[ 49/100]|Training: 100%|██████████| 63/63 [00:09<00:00,  6.79it/s,  loss 0.0076 accuracy 0.9459]\n",
      "100%|██████████| 13/13 [00:00<00:00, 22.40it/s]\n"
     ]
    },
    {
     "name": "stdout",
     "output_type": "stream",
     "text": [
      "accuracy:  0.4975\n"
     ]
    },
    {
     "name": "stderr",
     "output_type": "stream",
     "text": [
      "epoch[ 50/100]|Training: 100%|██████████| 63/63 [00:09<00:00,  6.41it/s,  loss 0.0268 accuracy 0.9509]\n",
      "100%|██████████| 13/13 [00:00<00:00, 23.29it/s]\n"
     ]
    },
    {
     "name": "stdout",
     "output_type": "stream",
     "text": [
      "accuracy:  0.4825\n"
     ]
    },
    {
     "name": "stderr",
     "output_type": "stream",
     "text": [
      "epoch[ 51/100]|Training: 100%|██████████| 63/63 [00:09<00:00,  6.58it/s,  loss 0.0703 accuracy 0.9549]\n",
      "100%|██████████| 13/13 [00:00<00:00, 22.03it/s]\n"
     ]
    },
    {
     "name": "stdout",
     "output_type": "stream",
     "text": [
      "accuracy:  0.4925\n"
     ]
    },
    {
     "name": "stderr",
     "output_type": "stream",
     "text": [
      "epoch[ 52/100]|Training: 100%|██████████| 63/63 [00:09<00:00,  6.90it/s,  loss 0.1416 accuracy 0.9534]\n",
      "100%|██████████| 13/13 [00:00<00:00, 21.76it/s]\n"
     ]
    },
    {
     "name": "stdout",
     "output_type": "stream",
     "text": [
      "accuracy:  0.46\n"
     ]
    },
    {
     "name": "stderr",
     "output_type": "stream",
     "text": [
      "epoch[ 53/100]|Training: 100%|██████████| 63/63 [00:09<00:00,  6.41it/s,  loss 0.2446 accuracy 0.9425]\n",
      "100%|██████████| 13/13 [00:00<00:00, 23.34it/s]\n"
     ]
    },
    {
     "name": "stdout",
     "output_type": "stream",
     "text": [
      "accuracy:  0.4175\n"
     ]
    },
    {
     "name": "stderr",
     "output_type": "stream",
     "text": [
      "epoch[ 54/100]|Training: 100%|██████████| 63/63 [00:09<00:00,  6.38it/s,  loss 0.3009 accuracy 0.9444]\n",
      "100%|██████████| 13/13 [00:00<00:00, 21.47it/s]\n"
     ]
    },
    {
     "name": "stdout",
     "output_type": "stream",
     "text": [
      "accuracy:  0.4525\n"
     ]
    },
    {
     "name": "stderr",
     "output_type": "stream",
     "text": [
      "epoch[ 55/100]|Training: 100%|██████████| 63/63 [00:10<00:00,  6.26it/s,  loss 0.0445 accuracy 0.9514]\n",
      "100%|██████████| 13/13 [00:00<00:00, 17.53it/s]\n"
     ]
    },
    {
     "name": "stdout",
     "output_type": "stream",
     "text": [
      "accuracy:  0.4775\n"
     ]
    },
    {
     "name": "stderr",
     "output_type": "stream",
     "text": [
      "epoch[ 56/100]|Training: 100%|██████████| 63/63 [00:09<00:00,  6.39it/s,  loss 0.0064 accuracy 0.9539]\n",
      "100%|██████████| 13/13 [00:00<00:00, 22.21it/s]\n"
     ]
    },
    {
     "name": "stdout",
     "output_type": "stream",
     "text": [
      "accuracy:  0.46\n"
     ]
    },
    {
     "name": "stderr",
     "output_type": "stream",
     "text": [
      "epoch[ 57/100]|Training: 100%|██████████| 63/63 [00:09<00:00,  6.51it/s,  loss 0.0440 accuracy 0.9524]\n",
      "100%|██████████| 13/13 [00:00<00:00, 20.18it/s]\n"
     ]
    },
    {
     "name": "stdout",
     "output_type": "stream",
     "text": [
      "accuracy:  0.4625\n"
     ]
    },
    {
     "name": "stderr",
     "output_type": "stream",
     "text": [
      "epoch[ 58/100]|Training: 100%|██████████| 63/63 [00:08<00:00,  7.00it/s,  loss 0.3626 accuracy 0.9568]\n",
      "100%|██████████| 13/13 [00:00<00:00, 21.84it/s]\n"
     ]
    },
    {
     "name": "stdout",
     "output_type": "stream",
     "text": [
      "accuracy:  0.51\n"
     ]
    },
    {
     "name": "stderr",
     "output_type": "stream",
     "text": [
      "epoch[ 59/100]|Training: 100%|██████████| 63/63 [00:09<00:00,  6.96it/s,  loss 0.1204 accuracy 0.9638]\n",
      "100%|██████████| 13/13 [00:00<00:00, 22.83it/s]\n"
     ]
    },
    {
     "name": "stdout",
     "output_type": "stream",
     "text": [
      "accuracy:  0.465\n"
     ]
    },
    {
     "name": "stderr",
     "output_type": "stream",
     "text": [
      "epoch[ 60/100]|Training: 100%|██████████| 63/63 [00:09<00:00,  6.79it/s,  loss 0.1223 accuracy 0.9613]\n",
      "100%|██████████| 13/13 [00:00<00:00, 22.72it/s]\n"
     ]
    },
    {
     "name": "stdout",
     "output_type": "stream",
     "text": [
      "accuracy:  0.4475\n"
     ]
    },
    {
     "name": "stderr",
     "output_type": "stream",
     "text": [
      "epoch[ 61/100]|Training: 100%|██████████| 63/63 [00:09<00:00,  6.82it/s,  loss 0.0629 accuracy 0.9509]\n",
      "100%|██████████| 13/13 [00:00<00:00, 21.06it/s]\n"
     ]
    },
    {
     "name": "stdout",
     "output_type": "stream",
     "text": [
      "accuracy:  0.4775\n"
     ]
    },
    {
     "name": "stderr",
     "output_type": "stream",
     "text": [
      "epoch[ 62/100]|Training: 100%|██████████| 63/63 [00:09<00:00,  6.56it/s,  loss 0.0200 accuracy 0.9568]\n",
      "100%|██████████| 13/13 [00:00<00:00, 19.79it/s]\n"
     ]
    },
    {
     "name": "stdout",
     "output_type": "stream",
     "text": [
      "accuracy:  0.46\n"
     ]
    },
    {
     "name": "stderr",
     "output_type": "stream",
     "text": [
      "epoch[ 63/100]|Training: 100%|██████████| 63/63 [00:09<00:00,  6.67it/s,  loss 0.0488 accuracy 0.9683]\n",
      "100%|██████████| 13/13 [00:00<00:00, 22.10it/s]\n"
     ]
    },
    {
     "name": "stdout",
     "output_type": "stream",
     "text": [
      "accuracy:  0.4775\n"
     ]
    },
    {
     "name": "stderr",
     "output_type": "stream",
     "text": [
      "epoch[ 64/100]|Training: 100%|██████████| 63/63 [00:09<00:00,  6.72it/s,  loss 0.3700 accuracy 0.9722]\n",
      "100%|██████████| 13/13 [00:00<00:00, 21.47it/s]\n"
     ]
    },
    {
     "name": "stdout",
     "output_type": "stream",
     "text": [
      "accuracy:  0.4825\n"
     ]
    },
    {
     "name": "stderr",
     "output_type": "stream",
     "text": [
      "epoch[ 65/100]|Training: 100%|██████████| 63/63 [00:09<00:00,  6.57it/s,  loss 0.0163 accuracy 0.9554]\n",
      "100%|██████████| 13/13 [00:00<00:00, 22.47it/s]\n"
     ]
    },
    {
     "name": "stdout",
     "output_type": "stream",
     "text": [
      "accuracy:  0.475\n"
     ]
    },
    {
     "name": "stderr",
     "output_type": "stream",
     "text": [
      "epoch[ 66/100]|Training: 100%|██████████| 63/63 [00:09<00:00,  6.64it/s,  loss 0.0132 accuracy 0.9583]\n",
      "100%|██████████| 13/13 [00:00<00:00, 22.32it/s]\n"
     ]
    },
    {
     "name": "stdout",
     "output_type": "stream",
     "text": [
      "accuracy:  0.475\n"
     ]
    },
    {
     "name": "stderr",
     "output_type": "stream",
     "text": [
      "epoch[ 67/100]|Training: 100%|██████████| 63/63 [00:09<00:00,  6.61it/s,  loss 0.0656 accuracy 0.9633]\n",
      "100%|██████████| 13/13 [00:00<00:00, 21.18it/s]\n"
     ]
    },
    {
     "name": "stdout",
     "output_type": "stream",
     "text": [
      "accuracy:  0.46\n"
     ]
    },
    {
     "name": "stderr",
     "output_type": "stream",
     "text": [
      "epoch[ 68/100]|Training: 100%|██████████| 63/63 [00:09<00:00,  6.78it/s,  loss 0.0878 accuracy 0.9539]\n",
      "100%|██████████| 13/13 [00:00<00:00, 21.30it/s]\n"
     ]
    },
    {
     "name": "stdout",
     "output_type": "stream",
     "text": [
      "accuracy:  0.4575\n"
     ]
    },
    {
     "name": "stderr",
     "output_type": "stream",
     "text": [
      "epoch[ 69/100]|Training: 100%|██████████| 63/63 [00:09<00:00,  6.93it/s,  loss 0.0339 accuracy 0.9608]\n",
      "100%|██████████| 13/13 [00:00<00:00, 22.89it/s]\n"
     ]
    },
    {
     "name": "stdout",
     "output_type": "stream",
     "text": [
      "accuracy:  0.4575\n"
     ]
    },
    {
     "name": "stderr",
     "output_type": "stream",
     "text": [
      "epoch[ 70/100]|Training: 100%|██████████| 63/63 [00:09<00:00,  6.75it/s,  loss 0.2352 accuracy 0.9673]\n",
      "100%|██████████| 13/13 [00:00<00:00, 21.91it/s]\n"
     ]
    },
    {
     "name": "stdout",
     "output_type": "stream",
     "text": [
      "accuracy:  0.4425\n"
     ]
    },
    {
     "name": "stderr",
     "output_type": "stream",
     "text": [
      "epoch[ 71/100]|Training: 100%|██████████| 63/63 [00:09<00:00,  6.66it/s,  loss 0.0678 accuracy 0.9618]\n",
      "100%|██████████| 13/13 [00:00<00:00, 19.11it/s]\n"
     ]
    },
    {
     "name": "stdout",
     "output_type": "stream",
     "text": [
      "accuracy:  0.4925\n"
     ]
    },
    {
     "name": "stderr",
     "output_type": "stream",
     "text": [
      "epoch[ 72/100]|Training: 100%|██████████| 63/63 [00:09<00:00,  6.55it/s,  loss 0.4014 accuracy 0.9593]\n",
      "100%|██████████| 13/13 [00:00<00:00, 21.23it/s]\n"
     ]
    },
    {
     "name": "stdout",
     "output_type": "stream",
     "text": [
      "accuracy:  0.485\n"
     ]
    },
    {
     "name": "stderr",
     "output_type": "stream",
     "text": [
      "epoch[ 73/100]|Training: 100%|██████████| 63/63 [00:09<00:00,  6.62it/s,  loss 0.0653 accuracy 0.9712]\n",
      "100%|██████████| 13/13 [00:00<00:00, 22.91it/s]\n"
     ]
    },
    {
     "name": "stdout",
     "output_type": "stream",
     "text": [
      "accuracy:  0.47\n"
     ]
    },
    {
     "name": "stderr",
     "output_type": "stream",
     "text": [
      "epoch[ 74/100]|Training: 100%|██████████| 63/63 [00:09<00:00,  6.59it/s,  loss 0.2454 accuracy 0.9529]\n",
      "100%|██████████| 13/13 [00:00<00:00, 20.03it/s]\n"
     ]
    },
    {
     "name": "stdout",
     "output_type": "stream",
     "text": [
      "accuracy:  0.5075\n"
     ]
    },
    {
     "name": "stderr",
     "output_type": "stream",
     "text": [
      "epoch[ 75/100]|Training: 100%|██████████| 63/63 [00:10<00:00,  6.21it/s,  loss 0.6690 accuracy 0.9524]\n",
      "100%|██████████| 13/13 [00:00<00:00, 20.54it/s]\n"
     ]
    },
    {
     "name": "stdout",
     "output_type": "stream",
     "text": [
      "accuracy:  0.475\n"
     ]
    },
    {
     "name": "stderr",
     "output_type": "stream",
     "text": [
      "epoch[ 76/100]|Training: 100%|██████████| 63/63 [00:09<00:00,  6.36it/s,  loss 0.6461 accuracy 0.9400]\n",
      "100%|██████████| 13/13 [00:00<00:00, 21.33it/s]\n"
     ]
    },
    {
     "name": "stdout",
     "output_type": "stream",
     "text": [
      "accuracy:  0.4675\n"
     ]
    },
    {
     "name": "stderr",
     "output_type": "stream",
     "text": [
      "epoch[ 77/100]|Training: 100%|██████████| 63/63 [00:09<00:00,  6.51it/s,  loss 0.0549 accuracy 0.9588]\n",
      "100%|██████████| 13/13 [00:00<00:00, 22.13it/s]\n"
     ]
    },
    {
     "name": "stdout",
     "output_type": "stream",
     "text": [
      "accuracy:  0.425\n"
     ]
    },
    {
     "name": "stderr",
     "output_type": "stream",
     "text": [
      "epoch[ 78/100]|Training: 100%|██████████| 63/63 [00:09<00:00,  6.72it/s,  loss 0.0329 accuracy 0.9608]\n",
      "100%|██████████| 13/13 [00:00<00:00, 21.22it/s]\n"
     ]
    },
    {
     "name": "stdout",
     "output_type": "stream",
     "text": [
      "accuracy:  0.4425\n"
     ]
    },
    {
     "name": "stderr",
     "output_type": "stream",
     "text": [
      "epoch[ 79/100]|Training: 100%|██████████| 63/63 [00:09<00:00,  6.41it/s,  loss 0.1449 accuracy 0.9643]\n",
      "100%|██████████| 13/13 [00:00<00:00, 22.80it/s]\n"
     ]
    },
    {
     "name": "stdout",
     "output_type": "stream",
     "text": [
      "accuracy:  0.44\n"
     ]
    },
    {
     "name": "stderr",
     "output_type": "stream",
     "text": [
      "epoch[ 80/100]|Training: 100%|██████████| 63/63 [00:09<00:00,  6.34it/s,  loss 0.1720 accuracy 0.9697]\n",
      "100%|██████████| 13/13 [00:00<00:00, 23.40it/s]\n"
     ]
    },
    {
     "name": "stdout",
     "output_type": "stream",
     "text": [
      "accuracy:  0.49\n"
     ]
    },
    {
     "name": "stderr",
     "output_type": "stream",
     "text": [
      "epoch[ 81/100]|Training: 100%|██████████| 63/63 [00:10<00:00,  6.20it/s,  loss 0.0272 accuracy 0.9658]\n",
      "100%|██████████| 13/13 [00:00<00:00, 21.66it/s]\n"
     ]
    },
    {
     "name": "stdout",
     "output_type": "stream",
     "text": [
      "accuracy:  0.46\n"
     ]
    },
    {
     "name": "stderr",
     "output_type": "stream",
     "text": [
      "epoch[ 82/100]|Training: 100%|██████████| 63/63 [00:09<00:00,  6.35it/s,  loss 0.1772 accuracy 0.9742]\n",
      "100%|██████████| 13/13 [00:00<00:00, 21.49it/s]\n"
     ]
    },
    {
     "name": "stdout",
     "output_type": "stream",
     "text": [
      "accuracy:  0.495\n"
     ]
    },
    {
     "name": "stderr",
     "output_type": "stream",
     "text": [
      "epoch[ 83/100]|Training: 100%|██████████| 63/63 [00:10<00:00,  6.23it/s,  loss 0.0461 accuracy 0.9673]\n",
      "100%|██████████| 13/13 [00:00<00:00, 23.02it/s]\n"
     ]
    },
    {
     "name": "stdout",
     "output_type": "stream",
     "text": [
      "accuracy:  0.47\n"
     ]
    },
    {
     "name": "stderr",
     "output_type": "stream",
     "text": [
      "epoch[ 84/100]|Training: 100%|██████████| 63/63 [00:10<00:00,  6.13it/s,  loss 0.0298 accuracy 0.9688]\n",
      "100%|██████████| 13/13 [00:00<00:00, 22.30it/s]\n"
     ]
    },
    {
     "name": "stdout",
     "output_type": "stream",
     "text": [
      "accuracy:  0.515\n"
     ]
    },
    {
     "name": "stderr",
     "output_type": "stream",
     "text": [
      "epoch[ 85/100]|Training: 100%|██████████| 63/63 [00:09<00:00,  6.43it/s,  loss 0.0313 accuracy 0.9722]\n",
      "100%|██████████| 13/13 [00:00<00:00, 23.32it/s]\n"
     ]
    },
    {
     "name": "stdout",
     "output_type": "stream",
     "text": [
      "accuracy:  0.4775\n"
     ]
    },
    {
     "name": "stderr",
     "output_type": "stream",
     "text": [
      "epoch[ 86/100]|Training: 100%|██████████| 63/63 [00:10<00:00,  6.25it/s,  loss 0.0247 accuracy 0.9688]\n",
      "100%|██████████| 13/13 [00:00<00:00, 23.43it/s]\n"
     ]
    },
    {
     "name": "stdout",
     "output_type": "stream",
     "text": [
      "accuracy:  0.5025\n"
     ]
    },
    {
     "name": "stderr",
     "output_type": "stream",
     "text": [
      "epoch[ 87/100]|Training: 100%|██████████| 63/63 [00:09<00:00,  6.42it/s,  loss 0.0060 accuracy 0.9638]\n",
      "100%|██████████| 13/13 [00:00<00:00, 21.67it/s]\n"
     ]
    },
    {
     "name": "stdout",
     "output_type": "stream",
     "text": [
      "accuracy:  0.4875\n"
     ]
    },
    {
     "name": "stderr",
     "output_type": "stream",
     "text": [
      "epoch[ 88/100]|Training: 100%|██████████| 63/63 [00:09<00:00,  6.43it/s,  loss 0.1729 accuracy 0.9747]\n",
      "100%|██████████| 13/13 [00:00<00:00, 21.47it/s]\n"
     ]
    },
    {
     "name": "stdout",
     "output_type": "stream",
     "text": [
      "accuracy:  0.4675\n"
     ]
    },
    {
     "name": "stderr",
     "output_type": "stream",
     "text": [
      "epoch[ 89/100]|Training: 100%|██████████| 63/63 [00:09<00:00,  6.31it/s,  loss 0.0319 accuracy 0.9628]\n",
      "100%|██████████| 13/13 [00:00<00:00, 21.80it/s]\n"
     ]
    },
    {
     "name": "stdout",
     "output_type": "stream",
     "text": [
      "accuracy:  0.49\n"
     ]
    },
    {
     "name": "stderr",
     "output_type": "stream",
     "text": [
      "epoch[ 90/100]|Training: 100%|██████████| 63/63 [00:10<00:00,  6.25it/s,  loss 0.0625 accuracy 0.9613]\n",
      "100%|██████████| 13/13 [00:00<00:00, 21.61it/s]\n"
     ]
    },
    {
     "name": "stdout",
     "output_type": "stream",
     "text": [
      "accuracy:  0.485\n"
     ]
    },
    {
     "name": "stderr",
     "output_type": "stream",
     "text": [
      "epoch[ 91/100]|Training: 100%|██████████| 63/63 [00:10<00:00,  6.21it/s,  loss 0.2219 accuracy 0.9737]\n",
      "100%|██████████| 13/13 [00:00<00:00, 21.82it/s]\n"
     ]
    },
    {
     "name": "stdout",
     "output_type": "stream",
     "text": [
      "accuracy:  0.4975\n"
     ]
    },
    {
     "name": "stderr",
     "output_type": "stream",
     "text": [
      "epoch[ 92/100]|Training: 100%|██████████| 63/63 [00:10<00:00,  6.11it/s,  loss 0.0997 accuracy 0.9583]\n",
      "100%|██████████| 13/13 [00:00<00:00, 21.72it/s]\n"
     ]
    },
    {
     "name": "stdout",
     "output_type": "stream",
     "text": [
      "accuracy:  0.4525\n"
     ]
    },
    {
     "name": "stderr",
     "output_type": "stream",
     "text": [
      "epoch[ 93/100]|Training: 100%|██████████| 63/63 [00:10<00:00,  6.07it/s,  loss 0.0159 accuracy 0.9593]\n",
      "100%|██████████| 13/13 [00:00<00:00, 21.24it/s]\n"
     ]
    },
    {
     "name": "stdout",
     "output_type": "stream",
     "text": [
      "accuracy:  0.495\n"
     ]
    },
    {
     "name": "stderr",
     "output_type": "stream",
     "text": [
      "epoch[ 94/100]|Training: 100%|██████████| 63/63 [00:09<00:00,  6.33it/s,  loss 0.0458 accuracy 0.9583]\n",
      "100%|██████████| 13/13 [00:00<00:00, 20.15it/s]\n"
     ]
    },
    {
     "name": "stdout",
     "output_type": "stream",
     "text": [
      "accuracy:  0.4375\n"
     ]
    },
    {
     "name": "stderr",
     "output_type": "stream",
     "text": [
      "epoch[ 95/100]|Training: 100%|██████████| 63/63 [00:10<00:00,  6.13it/s,  loss 0.0166 accuracy 0.9663]\n",
      "100%|██████████| 13/13 [00:00<00:00, 21.99it/s]\n"
     ]
    },
    {
     "name": "stdout",
     "output_type": "stream",
     "text": [
      "accuracy:  0.4625\n"
     ]
    },
    {
     "name": "stderr",
     "output_type": "stream",
     "text": [
      "epoch[ 96/100]|Training: 100%|██████████| 63/63 [00:10<00:00,  6.13it/s,  loss 0.1305 accuracy 0.9544]\n",
      "100%|██████████| 13/13 [00:00<00:00, 21.09it/s]\n"
     ]
    },
    {
     "name": "stdout",
     "output_type": "stream",
     "text": [
      "accuracy:  0.4725\n"
     ]
    },
    {
     "name": "stderr",
     "output_type": "stream",
     "text": [
      "epoch[ 97/100]|Training: 100%|██████████| 63/63 [00:10<00:00,  6.19it/s,  loss 0.0118 accuracy 0.9549]\n",
      "100%|██████████| 13/13 [00:00<00:00, 22.53it/s]\n"
     ]
    },
    {
     "name": "stdout",
     "output_type": "stream",
     "text": [
      "accuracy:  0.4725\n"
     ]
    },
    {
     "name": "stderr",
     "output_type": "stream",
     "text": [
      "epoch[ 98/100]|Training: 100%|██████████| 63/63 [00:10<00:00,  6.07it/s,  loss 0.0196 accuracy 0.9767]\n",
      "100%|██████████| 13/13 [00:00<00:00, 21.65it/s]\n"
     ]
    },
    {
     "name": "stdout",
     "output_type": "stream",
     "text": [
      "accuracy:  0.49\n"
     ]
    },
    {
     "name": "stderr",
     "output_type": "stream",
     "text": [
      "epoch[ 99/100]|Training: 100%|██████████| 63/63 [00:10<00:00,  6.06it/s,  loss 0.0193 accuracy 0.9702]\n",
      "100%|██████████| 13/13 [00:00<00:00, 20.25it/s]\n"
     ]
    },
    {
     "name": "stdout",
     "output_type": "stream",
     "text": [
      "accuracy:  0.52\n"
     ]
    },
    {
     "name": "stderr",
     "output_type": "stream",
     "text": [
      "epoch[100/100]|Training: 100%|██████████| 63/63 [00:09<00:00,  6.33it/s,  loss 0.0570 accuracy 0.9757]\n",
      "100%|██████████| 13/13 [00:00<00:00, 22.05it/s]"
     ]
    },
    {
     "name": "stdout",
     "output_type": "stream",
     "text": [
      "accuracy:  0.4775\n"
     ]
    },
    {
     "name": "stderr",
     "output_type": "stream",
     "text": [
      "\n"
     ]
    }
   ],
   "source": [
    "num_epochs=100\n",
    "loss_res_train_list=[]\n",
    "loss_res_test_list=[]\n",
    "acc_res_train_list=[]\n",
    "acc_res_test_list=[]\n",
    "for i in range(num_epochs):\n",
    "    loss_res_train,acc_res_train=train(i,num_epochs,model_res)\n",
    "    loss_res_train_list.append(loss_res_train)\n",
    "    acc_res_train_list.append(acc_res_train)\n",
    "\n",
    "    loss_res_test,acc_res_test=test(model_res)\n",
    "    loss_res_test_list.append(loss_res_test)\n",
    "    acc_res_test_list.append(acc_res_test)\n",
    "    "
   ]
  },
  {
   "cell_type": "code",
   "execution_count": 14,
   "metadata": {},
   "outputs": [
    {
     "data": {
      "image/png": "[encoded data removed]",
      "text/plain": [
       "<Figure size 640x480 with 1 Axes>"
      ]
     },
     "metadata": {},
     "output_type": "display_data"
    }
   ],
   "source": [
    "y = loss_res_train_list\n",
    "y_test=loss_res_test_list\n",
    "plt.title('training and testing loss')\n",
    "plt.plot(y,label='train')\n",
    "plt.plot(y_test, label='test')\n",
    "plt.xlabel('Epoch')\n",
    "plt.ylabel('Loss')\n",
    "plt.legend()\n",
    "plt.show()"
   ]
  },
  {
   "cell_type": "code",
   "execution_count": 15,
   "metadata": {},
   "outputs": [
    {
     "data": {
      "image/png": "[encoded data removed]",
      "text/plain": [
       "<Figure size 640x480 with 1 Axes>"
      ]
     },
     "metadata": {},
     "output_type": "display_data"
    }
   ],
   "source": [
    "y =acc_res_train_list\n",
    "y_test=acc_res_test_list\n",
    "plt.title('training and testing accuracy')\n",
    "plt.plot(y,label='train')\n",
    "plt.plot(y_test, label='test')\n",
    "plt.xlabel('Epoch')\n",
    "plt.ylabel('Accuracy')\n",
    "plt.legend()\n",
    "plt.show()"
   ]
  },
  {
   "attachments": {},
   "cell_type": "markdown",
   "metadata": {},
   "source": [
    "2.(b)"
   ]
  },
  {
   "cell_type": "code",
   "execution_count": 16,
   "metadata": {},
   "outputs": [],
   "source": [
    "class Resnet18_noidet(nn.Module):\n",
    "        def __init__(self):\n",
    "            super(Resnet18_noidet, self).__init__()\n",
    "            self.cov1=nn.Sequential(\n",
    "                 nn.Conv2d(3,64,3,1,1),\n",
    "                 nn.BatchNorm2d(64),\n",
    "                 nn.ReLU(),\n",
    "                 nn.AvgPool2d(2,2)\n",
    "\n",
    "            )\n",
    "            self.res=nn.Sequential(\n",
    "                 nn.Conv2d(64,64,3,1,1),\n",
    "                 nn.BatchNorm2d(64),\n",
    "                 nn.ReLU(),\n",
    "                 nn.Conv2d(64,64,3,1,1),\n",
    "                 nn.BatchNorm2d(64),\n",
    "                 nn.ReLU()\n",
    "            )\n",
    "            self.res2=nn.Sequential(\n",
    "                 nn.Conv2d(64,128,3,2,1),\n",
    "                 nn.BatchNorm2d(128),\n",
    "                 nn.ReLU(),\n",
    "                 nn.Conv2d(128,128,3,1,1),\n",
    "                 nn.BatchNorm2d(128),\n",
    "                 nn.ReLU()\n",
    "            )\n",
    "            self.res3=nn.Sequential(\n",
    "                 nn.Conv2d(128,128,3,1,1),\n",
    "                 nn.BatchNorm2d(128),\n",
    "                 nn.ReLU(),\n",
    "                 nn.Conv2d(128,128,3,1,1),\n",
    "                 nn.BatchNorm2d(128),\n",
    "                 nn.ReLU()\n",
    "            )\n",
    "            self.res4=nn.Sequential(\n",
    "                 nn.Conv2d(128,256,3,2,1),\n",
    "                 nn.BatchNorm2d(256),\n",
    "                 nn.ReLU(),\n",
    "                 nn.Conv2d(256,256,3,1,1),\n",
    "                 nn.BatchNorm2d(256),\n",
    "                 nn.ReLU()\n",
    "            )\n",
    "            self.res5=nn.Sequential(\n",
    "                 nn.Conv2d(256,256,3,1,1),\n",
    "                 nn.BatchNorm2d(256),\n",
    "                 nn.ReLU(),\n",
    "                 nn.Conv2d(256,256,3,1,1),\n",
    "                 nn.BatchNorm2d(256),\n",
    "                 nn.ReLU()\n",
    "            )\n",
    "            self.res6=nn.Sequential(\n",
    "                 nn.Conv2d(256,512,3,2,1),\n",
    "                 nn.BatchNorm2d(512),\n",
    "                 nn.ReLU(),\n",
    "                 nn.Conv2d(512,512,3,1,1),\n",
    "                 nn.BatchNorm2d(512),\n",
    "                 nn.ReLU()\n",
    "            )\n",
    "            self.res7=nn.Sequential(\n",
    "                 nn.Conv2d(512,512,3,1,1),\n",
    "                 nn.BatchNorm2d(512),\n",
    "                 nn.ReLU(),\n",
    "                 \n",
    "                 nn.Conv2d(512,512,3,1,1),\n",
    "                 nn.BatchNorm2d(512),\n",
    "                 nn.ReLU(),\n",
    "                 nn.AvgPool2d(2,2)\n",
    "            )\n",
    "            self.change_shape1=nn.Sequential(\n",
    "                 nn.Conv2d(64,128,3,2,1),\n",
    "                 nn.BatchNorm2d(128)\n",
    "            )\n",
    "            self.change_shape2=nn.Sequential(\n",
    "                 nn.Conv2d(128,256,3,2,1),\n",
    "                 nn.BatchNorm2d(256)\n",
    "            )\n",
    "            self.change_shape3=nn.Sequential(\n",
    "                 nn.Conv2d(256,512,3,2,1),\n",
    "                 nn.BatchNorm2d(512),\n",
    "                 \n",
    "            )\n",
    "            self.change_shape4=nn.Sequential(\n",
    "                 nn.Conv2d(512,512,3,2,1),\n",
    "                 nn.BatchNorm2d(512),\n",
    "                 \n",
    "            )\n",
    "            \n",
    "            self.fc=nn.Sequential(\n",
    "                 nn.Dropout(0.2),\n",
    "                 nn.Linear(512,10),\n",
    "\n",
    "            )\n",
    "        def forward(self, x):\n",
    "            x=self.cov1(x)\n",
    "            #layer1\n",
    "            #cut=x\n",
    "            x=self.res(x)\n",
    "            #x=x+cut\n",
    "            x=F.relu(x)\n",
    "            #cut=x\n",
    "            x=self.res(x)\n",
    "            #x=x+cut\n",
    "            x=F.relu(x)\n",
    "            #cut=x\n",
    "            #print('layer1 output:',cut.shape)\n",
    "            #layer2\n",
    "            x=self.res2(x)\n",
    "            #cut=self.change_shape1(cut)\n",
    "            #x=x+cut\n",
    "            x=F.relu(x)\n",
    "            #cut=x\n",
    "            x=self.res3(x)\n",
    "            #x=x+cut\n",
    "            x=F.relu(x)\n",
    "            #cut=x\n",
    "            #print('layer2 output:',cut.shape)\n",
    "            #layer3\n",
    "            x=self.res4(x)\n",
    "            #cut=self.change_shape2(cut)\n",
    "            #x=x+cut\n",
    "            x=F.relu(x)\n",
    "            #cut=x\n",
    "            x=self.res5(x)\n",
    "            #x=x+cut\n",
    "            x=F.relu(x)\n",
    "            #cut=x\n",
    "            #print('layer3 output:',cut.shape)\n",
    "            #layer4\n",
    "            x=self.res6(x)\n",
    "            #cut=self.change_shape3(cut)\n",
    "            #x=x+cut\n",
    "            x=F.relu(x)\n",
    "            #cut=x\n",
    "            x=self.res7(x)\n",
    "            #cut=self.change_shape4(cut)\n",
    "            #x=x+cut\n",
    "            x=F.relu(x)\n",
    "            #print('layer4 output:',cut.shape)\n",
    "            ##fc\n",
    "            x=x.view(x.size(0),-1)\n",
    "            x=self.fc(x)\n",
    "\n",
    "            return x"
   ]
  },
  {
   "cell_type": "code",
   "execution_count": 17,
   "metadata": {},
   "outputs": [],
   "source": [
    "model_res_noidet=Resnet18_noidet()\n",
    "device = torch.device('cuda' if torch.cuda.is_available() else 'cpu')\n",
    "model_res_noidet.to(device)\n",
    "optimizer = torch.optim.Adam(model_res_noidet.parameters(),lr=0.001,weight_decay=1e-4)\n",
    "criterion = torch.nn.CrossEntropyLoss()"
   ]
  },
  {
   "cell_type": "code",
   "execution_count": 18,
   "metadata": {},
   "outputs": [
    {
     "name": "stderr",
     "output_type": "stream",
     "text": [
      "epoch[  1/100]|Training: 100%|██████████| 63/63 [00:07<00:00,  8.42it/s,  loss 2.0454 accuracy 0.1553]\n",
      "100%|██████████| 13/13 [00:00<00:00, 25.10it/s]\n"
     ]
    },
    {
     "name": "stdout",
     "output_type": "stream",
     "text": [
      "accuracy:  0.185\n"
     ]
    },
    {
     "name": "stderr",
     "output_type": "stream",
     "text": [
      "epoch[  2/100]|Training: 100%|██████████| 63/63 [00:06<00:00,  9.39it/s,  loss 2.0561 accuracy 0.2049]\n",
      "100%|██████████| 13/13 [00:00<00:00, 25.68it/s]\n"
     ]
    },
    {
     "name": "stdout",
     "output_type": "stream",
     "text": [
      "accuracy:  0.2025\n"
     ]
    },
    {
     "name": "stderr",
     "output_type": "stream",
     "text": [
      "epoch[  3/100]|Training: 100%|██████████| 63/63 [00:06<00:00,  9.12it/s,  loss 1.9533 accuracy 0.2212]\n",
      "100%|██████████| 13/13 [00:00<00:00, 29.29it/s]\n"
     ]
    },
    {
     "name": "stdout",
     "output_type": "stream",
     "text": [
      "accuracy:  0.22\n"
     ]
    },
    {
     "name": "stderr",
     "output_type": "stream",
     "text": [
      "epoch[  4/100]|Training: 100%|██████████| 63/63 [00:05<00:00, 11.75it/s,  loss 2.0114 accuracy 0.2381]\n",
      "100%|██████████| 13/13 [00:00<00:00, 28.97it/s]\n"
     ]
    },
    {
     "name": "stdout",
     "output_type": "stream",
     "text": [
      "accuracy:  0.245\n"
     ]
    },
    {
     "name": "stderr",
     "output_type": "stream",
     "text": [
      "epoch[  5/100]|Training: 100%|██████████| 63/63 [00:05<00:00, 11.57it/s,  loss 2.0764 accuracy 0.2465]\n",
      "100%|██████████| 13/13 [00:00<00:00, 29.89it/s]\n"
     ]
    },
    {
     "name": "stdout",
     "output_type": "stream",
     "text": [
      "accuracy:  0.2375\n"
     ]
    },
    {
     "name": "stderr",
     "output_type": "stream",
     "text": [
      "epoch[  6/100]|Training: 100%|██████████| 63/63 [00:05<00:00, 11.75it/s,  loss 1.8475 accuracy 0.2793]\n",
      "100%|██████████| 13/13 [00:00<00:00, 28.65it/s]\n"
     ]
    },
    {
     "name": "stdout",
     "output_type": "stream",
     "text": [
      "accuracy:  0.2375\n"
     ]
    },
    {
     "name": "stderr",
     "output_type": "stream",
     "text": [
      "epoch[  7/100]|Training: 100%|██████████| 63/63 [00:07<00:00,  8.30it/s,  loss 1.9142 accuracy 0.2922]\n",
      "100%|██████████| 13/13 [00:00<00:00, 24.75it/s]\n"
     ]
    },
    {
     "name": "stdout",
     "output_type": "stream",
     "text": [
      "accuracy:  0.2575\n"
     ]
    },
    {
     "name": "stderr",
     "output_type": "stream",
     "text": [
      "epoch[  8/100]|Training: 100%|██████████| 63/63 [00:06<00:00,  9.83it/s,  loss 2.1683 accuracy 0.2966]\n",
      "100%|██████████| 13/13 [00:00<00:00, 24.24it/s]\n"
     ]
    },
    {
     "name": "stdout",
     "output_type": "stream",
     "text": [
      "accuracy:  0.3025\n"
     ]
    },
    {
     "name": "stderr",
     "output_type": "stream",
     "text": [
      "epoch[  9/100]|Training: 100%|██████████| 63/63 [00:05<00:00, 12.41it/s,  loss 1.6049 accuracy 0.2917]\n",
      "100%|██████████| 13/13 [00:00<00:00, 19.57it/s]\n"
     ]
    },
    {
     "name": "stdout",
     "output_type": "stream",
     "text": [
      "accuracy:  0.245\n"
     ]
    },
    {
     "name": "stderr",
     "output_type": "stream",
     "text": [
      "epoch[ 10/100]|Training: 100%|██████████| 63/63 [00:05<00:00, 12.08it/s,  loss 2.3330 accuracy 0.3100]\n",
      "100%|██████████| 13/13 [00:00<00:00, 30.11it/s]\n"
     ]
    },
    {
     "name": "stdout",
     "output_type": "stream",
     "text": [
      "accuracy:  0.2675\n"
     ]
    },
    {
     "name": "stderr",
     "output_type": "stream",
     "text": [
      "epoch[ 11/100]|Training: 100%|██████████| 63/63 [00:04<00:00, 13.22it/s,  loss 1.6871 accuracy 0.3462]\n",
      "100%|██████████| 13/13 [00:00<00:00, 30.95it/s]\n"
     ]
    },
    {
     "name": "stdout",
     "output_type": "stream",
     "text": [
      "accuracy:  0.29\n"
     ]
    },
    {
     "name": "stderr",
     "output_type": "stream",
     "text": [
      "epoch[ 12/100]|Training: 100%|██████████| 63/63 [00:04<00:00, 13.04it/s,  loss 1.8007 accuracy 0.3358]\n",
      "100%|██████████| 13/13 [00:00<00:00, 25.38it/s]\n"
     ]
    },
    {
     "name": "stdout",
     "output_type": "stream",
     "text": [
      "accuracy:  0.31\n"
     ]
    },
    {
     "name": "stderr",
     "output_type": "stream",
     "text": [
      "epoch[ 13/100]|Training: 100%|██████████| 63/63 [00:04<00:00, 12.72it/s,  loss 1.7562 accuracy 0.3403]\n",
      "100%|██████████| 13/13 [00:00<00:00, 30.79it/s]\n"
     ]
    },
    {
     "name": "stdout",
     "output_type": "stream",
     "text": [
      "accuracy:  0.335\n"
     ]
    },
    {
     "name": "stderr",
     "output_type": "stream",
     "text": [
      "epoch[ 14/100]|Training: 100%|██████████| 63/63 [00:04<00:00, 12.86it/s,  loss 1.8021 accuracy 0.3358]\n",
      "100%|██████████| 13/13 [00:00<00:00, 29.37it/s]\n"
     ]
    },
    {
     "name": "stdout",
     "output_type": "stream",
     "text": [
      "accuracy:  0.2975\n"
     ]
    },
    {
     "name": "stderr",
     "output_type": "stream",
     "text": [
      "epoch[ 15/100]|Training: 100%|██████████| 63/63 [00:05<00:00, 10.72it/s,  loss 1.6619 accuracy 0.3552]\n",
      "100%|██████████| 13/13 [00:00<00:00, 24.87it/s]\n"
     ]
    },
    {
     "name": "stdout",
     "output_type": "stream",
     "text": [
      "accuracy:  0.33\n"
     ]
    },
    {
     "name": "stderr",
     "output_type": "stream",
     "text": [
      "epoch[ 16/100]|Training: 100%|██████████| 63/63 [00:05<00:00, 11.80it/s,  loss 2.0021 accuracy 0.3423]\n",
      "100%|██████████| 13/13 [00:00<00:00, 26.63it/s]\n"
     ]
    },
    {
     "name": "stdout",
     "output_type": "stream",
     "text": [
      "accuracy:  0.3425\n"
     ]
    },
    {
     "name": "stderr",
     "output_type": "stream",
     "text": [
      "epoch[ 17/100]|Training: 100%|██████████| 63/63 [00:04<00:00, 12.65it/s,  loss 1.7434 accuracy 0.3730]\n",
      "100%|██████████| 13/13 [00:00<00:00, 28.03it/s]\n"
     ]
    },
    {
     "name": "stdout",
     "output_type": "stream",
     "text": [
      "accuracy:  0.3425\n"
     ]
    },
    {
     "name": "stderr",
     "output_type": "stream",
     "text": [
      "epoch[ 18/100]|Training: 100%|██████████| 63/63 [00:05<00:00, 12.52it/s,  loss 1.7287 accuracy 0.3760]\n",
      "100%|██████████| 13/13 [00:00<00:00, 29.99it/s]\n"
     ]
    },
    {
     "name": "stdout",
     "output_type": "stream",
     "text": [
      "accuracy:  0.3175\n"
     ]
    },
    {
     "name": "stderr",
     "output_type": "stream",
     "text": [
      "epoch[ 19/100]|Training: 100%|██████████| 63/63 [00:04<00:00, 13.01it/s,  loss 1.6750 accuracy 0.3869]\n",
      "100%|██████████| 13/13 [00:00<00:00, 28.37it/s]\n"
     ]
    },
    {
     "name": "stdout",
     "output_type": "stream",
     "text": [
      "accuracy:  0.3125\n"
     ]
    },
    {
     "name": "stderr",
     "output_type": "stream",
     "text": [
      "epoch[ 20/100]|Training: 100%|██████████| 63/63 [00:04<00:00, 13.33it/s,  loss 1.4473 accuracy 0.4196]\n",
      "100%|██████████| 13/13 [00:00<00:00, 31.89it/s]\n"
     ]
    },
    {
     "name": "stdout",
     "output_type": "stream",
     "text": [
      "accuracy:  0.385\n"
     ]
    },
    {
     "name": "stderr",
     "output_type": "stream",
     "text": [
      "epoch[ 21/100]|Training: 100%|██████████| 63/63 [00:04<00:00, 13.36it/s,  loss 1.5501 accuracy 0.4172]\n",
      "100%|██████████| 13/13 [00:00<00:00, 31.30it/s]\n"
     ]
    },
    {
     "name": "stdout",
     "output_type": "stream",
     "text": [
      "accuracy:  0.34\n"
     ]
    },
    {
     "name": "stderr",
     "output_type": "stream",
     "text": [
      "epoch[ 22/100]|Training: 100%|██████████| 63/63 [00:04<00:00, 13.04it/s,  loss 1.5835 accuracy 0.4196]\n",
      "100%|██████████| 13/13 [00:00<00:00, 27.85it/s]\n"
     ]
    },
    {
     "name": "stdout",
     "output_type": "stream",
     "text": [
      "accuracy:  0.3375\n"
     ]
    },
    {
     "name": "stderr",
     "output_type": "stream",
     "text": [
      "epoch[ 23/100]|Training: 100%|██████████| 63/63 [00:05<00:00, 12.34it/s,  loss 1.7617 accuracy 0.4286]\n",
      "100%|██████████| 13/13 [00:00<00:00, 30.33it/s]\n"
     ]
    },
    {
     "name": "stdout",
     "output_type": "stream",
     "text": [
      "accuracy:  0.3675\n"
     ]
    },
    {
     "name": "stderr",
     "output_type": "stream",
     "text": [
      "epoch[ 24/100]|Training: 100%|██████████| 63/63 [00:04<00:00, 13.22it/s,  loss 1.9417 accuracy 0.4479]\n",
      "100%|██████████| 13/13 [00:00<00:00, 32.18it/s]\n"
     ]
    },
    {
     "name": "stdout",
     "output_type": "stream",
     "text": [
      "accuracy:  0.33\n"
     ]
    },
    {
     "name": "stderr",
     "output_type": "stream",
     "text": [
      "epoch[ 25/100]|Training: 100%|██████████| 63/63 [00:04<00:00, 13.32it/s,  loss 1.3025 accuracy 0.4380]\n",
      "100%|██████████| 13/13 [00:00<00:00, 30.94it/s]\n"
     ]
    },
    {
     "name": "stdout",
     "output_type": "stream",
     "text": [
      "accuracy:  0.3175\n"
     ]
    },
    {
     "name": "stderr",
     "output_type": "stream",
     "text": [
      "epoch[ 26/100]|Training: 100%|██████████| 63/63 [00:04<00:00, 13.32it/s,  loss 1.4127 accuracy 0.4702]\n",
      "100%|██████████| 13/13 [00:00<00:00, 31.74it/s]\n"
     ]
    },
    {
     "name": "stdout",
     "output_type": "stream",
     "text": [
      "accuracy:  0.37\n"
     ]
    },
    {
     "name": "stderr",
     "output_type": "stream",
     "text": [
      "epoch[ 27/100]|Training: 100%|██████████| 63/63 [00:04<00:00, 13.20it/s,  loss 1.4159 accuracy 0.4668]\n",
      "100%|██████████| 13/13 [00:00<00:00, 31.36it/s]\n"
     ]
    },
    {
     "name": "stdout",
     "output_type": "stream",
     "text": [
      "accuracy:  0.3675\n"
     ]
    },
    {
     "name": "stderr",
     "output_type": "stream",
     "text": [
      "epoch[ 28/100]|Training: 100%|██████████| 63/63 [00:04<00:00, 13.16it/s,  loss 1.2484 accuracy 0.4722]\n",
      "100%|██████████| 13/13 [00:00<00:00, 31.52it/s]\n"
     ]
    },
    {
     "name": "stdout",
     "output_type": "stream",
     "text": [
      "accuracy:  0.405\n"
     ]
    },
    {
     "name": "stderr",
     "output_type": "stream",
     "text": [
      "epoch[ 29/100]|Training: 100%|██████████| 63/63 [00:04<00:00, 13.40it/s,  loss 2.1049 accuracy 0.4826]\n",
      "100%|██████████| 13/13 [00:00<00:00, 31.94it/s]\n"
     ]
    },
    {
     "name": "stdout",
     "output_type": "stream",
     "text": [
      "accuracy:  0.355\n"
     ]
    },
    {
     "name": "stderr",
     "output_type": "stream",
     "text": [
      "epoch[ 30/100]|Training: 100%|██████████| 63/63 [00:04<00:00, 13.41it/s,  loss 1.7302 accuracy 0.4737]\n",
      "100%|██████████| 13/13 [00:00<00:00, 31.41it/s]\n"
     ]
    },
    {
     "name": "stdout",
     "output_type": "stream",
     "text": [
      "accuracy:  0.375\n"
     ]
    },
    {
     "name": "stderr",
     "output_type": "stream",
     "text": [
      "epoch[ 31/100]|Training: 100%|██████████| 63/63 [00:04<00:00, 13.38it/s,  loss 1.5771 accuracy 0.5164]\n",
      "100%|██████████| 13/13 [00:00<00:00, 31.72it/s]\n"
     ]
    },
    {
     "name": "stdout",
     "output_type": "stream",
     "text": [
      "accuracy:  0.385\n"
     ]
    },
    {
     "name": "stderr",
     "output_type": "stream",
     "text": [
      "epoch[ 32/100]|Training: 100%|██████████| 63/63 [00:04<00:00, 13.40it/s,  loss 1.1105 accuracy 0.5119]\n",
      "100%|██████████| 13/13 [00:00<00:00, 31.97it/s]\n"
     ]
    },
    {
     "name": "stdout",
     "output_type": "stream",
     "text": [
      "accuracy:  0.405\n"
     ]
    },
    {
     "name": "stderr",
     "output_type": "stream",
     "text": [
      "epoch[ 33/100]|Training: 100%|██████████| 63/63 [00:04<00:00, 12.94it/s,  loss 1.3187 accuracy 0.5456]\n",
      "100%|██████████| 13/13 [00:00<00:00, 30.99it/s]\n"
     ]
    },
    {
     "name": "stdout",
     "output_type": "stream",
     "text": [
      "accuracy:  0.395\n"
     ]
    },
    {
     "name": "stderr",
     "output_type": "stream",
     "text": [
      "epoch[ 34/100]|Training: 100%|██████████| 63/63 [00:04<00:00, 13.39it/s,  loss 1.1590 accuracy 0.5417]\n",
      "100%|██████████| 13/13 [00:00<00:00, 31.43it/s]\n"
     ]
    },
    {
     "name": "stdout",
     "output_type": "stream",
     "text": [
      "accuracy:  0.3525\n"
     ]
    },
    {
     "name": "stderr",
     "output_type": "stream",
     "text": [
      "epoch[ 35/100]|Training: 100%|██████████| 63/63 [00:04<00:00, 13.18it/s,  loss 1.4780 accuracy 0.5630]\n",
      "100%|██████████| 13/13 [00:00<00:00, 31.36it/s]\n"
     ]
    },
    {
     "name": "stdout",
     "output_type": "stream",
     "text": [
      "accuracy:  0.3425\n"
     ]
    },
    {
     "name": "stderr",
     "output_type": "stream",
     "text": [
      "epoch[ 36/100]|Training: 100%|██████████| 63/63 [00:04<00:00, 13.33it/s,  loss 1.4049 accuracy 0.5466]\n",
      "100%|██████████| 13/13 [00:00<00:00, 30.99it/s]\n"
     ]
    },
    {
     "name": "stdout",
     "output_type": "stream",
     "text": [
      "accuracy:  0.3575\n"
     ]
    },
    {
     "name": "stderr",
     "output_type": "stream",
     "text": [
      "epoch[ 37/100]|Training: 100%|██████████| 63/63 [00:04<00:00, 13.28it/s,  loss 1.0908 accuracy 0.5625]\n",
      "100%|██████████| 13/13 [00:00<00:00, 30.82it/s]\n"
     ]
    },
    {
     "name": "stdout",
     "output_type": "stream",
     "text": [
      "accuracy:  0.435\n"
     ]
    },
    {
     "name": "stderr",
     "output_type": "stream",
     "text": [
      "epoch[ 38/100]|Training: 100%|██████████| 63/63 [00:04<00:00, 13.12it/s,  loss 1.2545 accuracy 0.5893]\n",
      "100%|██████████| 13/13 [00:00<00:00, 27.93it/s]\n"
     ]
    },
    {
     "name": "stdout",
     "output_type": "stream",
     "text": [
      "accuracy:  0.3775\n"
     ]
    },
    {
     "name": "stderr",
     "output_type": "stream",
     "text": [
      "epoch[ 39/100]|Training: 100%|██████████| 63/63 [00:04<00:00, 13.33it/s,  loss 2.0968 accuracy 0.6017]\n",
      "100%|██████████| 13/13 [00:00<00:00, 29.99it/s]\n"
     ]
    },
    {
     "name": "stdout",
     "output_type": "stream",
     "text": [
      "accuracy:  0.3875\n"
     ]
    },
    {
     "name": "stderr",
     "output_type": "stream",
     "text": [
      "epoch[ 40/100]|Training: 100%|██████████| 63/63 [00:05<00:00, 12.49it/s,  loss 1.3011 accuracy 0.5977]\n",
      "100%|██████████| 13/13 [00:00<00:00, 23.47it/s]\n"
     ]
    },
    {
     "name": "stdout",
     "output_type": "stream",
     "text": [
      "accuracy:  0.3775\n"
     ]
    },
    {
     "name": "stderr",
     "output_type": "stream",
     "text": [
      "epoch[ 41/100]|Training: 100%|██████████| 63/63 [00:05<00:00, 12.29it/s,  loss 1.3688 accuracy 0.5962]\n",
      "100%|██████████| 13/13 [00:00<00:00, 31.11it/s]\n"
     ]
    },
    {
     "name": "stdout",
     "output_type": "stream",
     "text": [
      "accuracy:  0.395\n"
     ]
    },
    {
     "name": "stderr",
     "output_type": "stream",
     "text": [
      "epoch[ 42/100]|Training: 100%|██████████| 63/63 [00:04<00:00, 13.00it/s,  loss 1.3471 accuracy 0.6186]\n",
      "100%|██████████| 13/13 [00:00<00:00, 30.60it/s]\n"
     ]
    },
    {
     "name": "stdout",
     "output_type": "stream",
     "text": [
      "accuracy:  0.4075\n"
     ]
    },
    {
     "name": "stderr",
     "output_type": "stream",
     "text": [
      "epoch[ 43/100]|Training: 100%|██████████| 63/63 [00:04<00:00, 13.39it/s,  loss 1.0708 accuracy 0.6190]\n",
      "100%|██████████| 13/13 [00:00<00:00, 31.90it/s]\n"
     ]
    },
    {
     "name": "stdout",
     "output_type": "stream",
     "text": [
      "accuracy:  0.415\n"
     ]
    },
    {
     "name": "stderr",
     "output_type": "stream",
     "text": [
      "epoch[ 44/100]|Training: 100%|██████████| 63/63 [00:04<00:00, 12.76it/s,  loss 1.5283 accuracy 0.6270]\n",
      "100%|██████████| 13/13 [00:00<00:00, 27.93it/s]\n"
     ]
    },
    {
     "name": "stdout",
     "output_type": "stream",
     "text": [
      "accuracy:  0.39\n"
     ]
    },
    {
     "name": "stderr",
     "output_type": "stream",
     "text": [
      "epoch[ 45/100]|Training: 100%|██████████| 63/63 [00:04<00:00, 12.66it/s,  loss 0.8299 accuracy 0.6642]\n",
      "100%|██████████| 13/13 [00:00<00:00, 24.00it/s]\n"
     ]
    },
    {
     "name": "stdout",
     "output_type": "stream",
     "text": [
      "accuracy:  0.4175\n"
     ]
    },
    {
     "name": "stderr",
     "output_type": "stream",
     "text": [
      "epoch[ 46/100]|Training: 100%|██████████| 63/63 [00:04<00:00, 12.91it/s,  loss 2.0226 accuracy 0.6567]\n",
      "100%|██████████| 13/13 [00:00<00:00, 31.12it/s]\n"
     ]
    },
    {
     "name": "stdout",
     "output_type": "stream",
     "text": [
      "accuracy:  0.41\n"
     ]
    },
    {
     "name": "stderr",
     "output_type": "stream",
     "text": [
      "epoch[ 47/100]|Training: 100%|██████████| 63/63 [00:04<00:00, 12.97it/s,  loss 0.9017 accuracy 0.6736]\n",
      "100%|██████████| 13/13 [00:00<00:00, 30.27it/s]\n"
     ]
    },
    {
     "name": "stdout",
     "output_type": "stream",
     "text": [
      "accuracy:  0.385\n"
     ]
    },
    {
     "name": "stderr",
     "output_type": "stream",
     "text": [
      "epoch[ 48/100]|Training: 100%|██████████| 63/63 [00:04<00:00, 12.67it/s,  loss 0.8698 accuracy 0.6895]\n",
      "100%|██████████| 13/13 [00:00<00:00, 22.42it/s]\n"
     ]
    },
    {
     "name": "stdout",
     "output_type": "stream",
     "text": [
      "accuracy:  0.435\n"
     ]
    },
    {
     "name": "stderr",
     "output_type": "stream",
     "text": [
      "epoch[ 49/100]|Training: 100%|██████████| 63/63 [00:04<00:00, 13.08it/s,  loss 0.5252 accuracy 0.7078]\n",
      "100%|██████████| 13/13 [00:00<00:00, 26.90it/s]\n"
     ]
    },
    {
     "name": "stdout",
     "output_type": "stream",
     "text": [
      "accuracy:  0.4375\n"
     ]
    },
    {
     "name": "stderr",
     "output_type": "stream",
     "text": [
      "epoch[ 50/100]|Training: 100%|██████████| 63/63 [00:04<00:00, 12.99it/s,  loss 1.3415 accuracy 0.7009]\n",
      "100%|██████████| 13/13 [00:00<00:00, 31.72it/s]\n"
     ]
    },
    {
     "name": "stdout",
     "output_type": "stream",
     "text": [
      "accuracy:  0.43\n"
     ]
    },
    {
     "name": "stderr",
     "output_type": "stream",
     "text": [
      "epoch[ 51/100]|Training: 100%|██████████| 63/63 [00:04<00:00, 12.80it/s,  loss 1.0661 accuracy 0.7039]\n",
      "100%|██████████| 13/13 [00:00<00:00, 31.48it/s]\n"
     ]
    },
    {
     "name": "stdout",
     "output_type": "stream",
     "text": [
      "accuracy:  0.4425\n"
     ]
    },
    {
     "name": "stderr",
     "output_type": "stream",
     "text": [
      "epoch[ 52/100]|Training: 100%|██████████| 63/63 [00:04<00:00, 13.48it/s,  loss 1.1340 accuracy 0.7530]\n",
      "100%|██████████| 13/13 [00:00<00:00, 31.43it/s]\n"
     ]
    },
    {
     "name": "stdout",
     "output_type": "stream",
     "text": [
      "accuracy:  0.425\n"
     ]
    },
    {
     "name": "stderr",
     "output_type": "stream",
     "text": [
      "epoch[ 53/100]|Training: 100%|██████████| 63/63 [00:04<00:00, 12.74it/s,  loss 0.8271 accuracy 0.6959]\n",
      "100%|██████████| 13/13 [00:00<00:00, 29.26it/s]\n"
     ]
    },
    {
     "name": "stdout",
     "output_type": "stream",
     "text": [
      "accuracy:  0.4075\n"
     ]
    },
    {
     "name": "stderr",
     "output_type": "stream",
     "text": [
      "epoch[ 54/100]|Training: 100%|██████████| 63/63 [00:04<00:00, 12.95it/s,  loss 1.0144 accuracy 0.7391]\n",
      "100%|██████████| 13/13 [00:00<00:00, 27.65it/s]\n"
     ]
    },
    {
     "name": "stdout",
     "output_type": "stream",
     "text": [
      "accuracy:  0.4625\n"
     ]
    },
    {
     "name": "stderr",
     "output_type": "stream",
     "text": [
      "epoch[ 55/100]|Training: 100%|██████████| 63/63 [00:04<00:00, 13.27it/s,  loss 0.5741 accuracy 0.7460]\n",
      "100%|██████████| 13/13 [00:00<00:00, 28.65it/s]\n"
     ]
    },
    {
     "name": "stdout",
     "output_type": "stream",
     "text": [
      "accuracy:  0.4375\n"
     ]
    },
    {
     "name": "stderr",
     "output_type": "stream",
     "text": [
      "epoch[ 56/100]|Training: 100%|██████████| 63/63 [00:04<00:00, 13.14it/s,  loss 0.4659 accuracy 0.7614]\n",
      "100%|██████████| 13/13 [00:00<00:00, 27.40it/s]\n"
     ]
    },
    {
     "name": "stdout",
     "output_type": "stream",
     "text": [
      "accuracy:  0.4725\n"
     ]
    },
    {
     "name": "stderr",
     "output_type": "stream",
     "text": [
      "epoch[ 57/100]|Training: 100%|██████████| 63/63 [00:04<00:00, 13.31it/s,  loss 1.0785 accuracy 0.7941]\n",
      "100%|██████████| 13/13 [00:00<00:00, 29.64it/s]\n"
     ]
    },
    {
     "name": "stdout",
     "output_type": "stream",
     "text": [
      "accuracy:  0.45\n"
     ]
    },
    {
     "name": "stderr",
     "output_type": "stream",
     "text": [
      "epoch[ 58/100]|Training: 100%|██████████| 63/63 [00:04<00:00, 13.03it/s,  loss 0.8901 accuracy 0.7773]\n",
      "100%|██████████| 13/13 [00:00<00:00, 31.20it/s]\n"
     ]
    },
    {
     "name": "stdout",
     "output_type": "stream",
     "text": [
      "accuracy:  0.4475\n"
     ]
    },
    {
     "name": "stderr",
     "output_type": "stream",
     "text": [
      "epoch[ 59/100]|Training: 100%|██████████| 63/63 [00:04<00:00, 13.23it/s,  loss 0.4065 accuracy 0.7837]\n",
      "100%|██████████| 13/13 [00:00<00:00, 27.06it/s]\n"
     ]
    },
    {
     "name": "stdout",
     "output_type": "stream",
     "text": [
      "accuracy:  0.43\n"
     ]
    },
    {
     "name": "stderr",
     "output_type": "stream",
     "text": [
      "epoch[ 60/100]|Training: 100%|██████████| 63/63 [00:04<00:00, 12.64it/s,  loss 1.3592 accuracy 0.7817]\n",
      "100%|██████████| 13/13 [00:00<00:00, 29.29it/s]\n"
     ]
    },
    {
     "name": "stdout",
     "output_type": "stream",
     "text": [
      "accuracy:  0.42\n"
     ]
    },
    {
     "name": "stderr",
     "output_type": "stream",
     "text": [
      "epoch[ 61/100]|Training: 100%|██████████| 63/63 [00:04<00:00, 13.16it/s,  loss 0.2947 accuracy 0.8165]\n",
      "100%|██████████| 13/13 [00:00<00:00, 31.12it/s]\n"
     ]
    },
    {
     "name": "stdout",
     "output_type": "stream",
     "text": [
      "accuracy:  0.435\n"
     ]
    },
    {
     "name": "stderr",
     "output_type": "stream",
     "text": [
      "epoch[ 62/100]|Training: 100%|██████████| 63/63 [00:04<00:00, 13.39it/s,  loss 0.8665 accuracy 0.7981]\n",
      "100%|██████████| 13/13 [00:00<00:00, 32.22it/s]\n"
     ]
    },
    {
     "name": "stdout",
     "output_type": "stream",
     "text": [
      "accuracy:  0.4625\n"
     ]
    },
    {
     "name": "stderr",
     "output_type": "stream",
     "text": [
      "epoch[ 63/100]|Training: 100%|██████████| 63/63 [00:04<00:00, 13.44it/s,  loss 0.5094 accuracy 0.8264]\n",
      "100%|██████████| 13/13 [00:00<00:00, 31.69it/s]\n"
     ]
    },
    {
     "name": "stdout",
     "output_type": "stream",
     "text": [
      "accuracy:  0.415\n"
     ]
    },
    {
     "name": "stderr",
     "output_type": "stream",
     "text": [
      "epoch[ 64/100]|Training: 100%|██████████| 63/63 [00:04<00:00, 13.31it/s,  loss 0.4356 accuracy 0.8304]\n",
      "100%|██████████| 13/13 [00:00<00:00, 30.67it/s]\n"
     ]
    },
    {
     "name": "stdout",
     "output_type": "stream",
     "text": [
      "accuracy:  0.435\n"
     ]
    },
    {
     "name": "stderr",
     "output_type": "stream",
     "text": [
      "epoch[ 65/100]|Training: 100%|██████████| 63/63 [00:04<00:00, 13.25it/s,  loss 0.5863 accuracy 0.7971]\n",
      "100%|██████████| 13/13 [00:00<00:00, 30.32it/s]\n"
     ]
    },
    {
     "name": "stdout",
     "output_type": "stream",
     "text": [
      "accuracy:  0.4\n"
     ]
    },
    {
     "name": "stderr",
     "output_type": "stream",
     "text": [
      "epoch[ 66/100]|Training: 100%|██████████| 63/63 [00:04<00:00, 13.20it/s,  loss 0.3061 accuracy 0.8125]\n",
      "100%|██████████| 13/13 [00:00<00:00, 30.09it/s]\n"
     ]
    },
    {
     "name": "stdout",
     "output_type": "stream",
     "text": [
      "accuracy:  0.38\n"
     ]
    },
    {
     "name": "stderr",
     "output_type": "stream",
     "text": [
      "epoch[ 67/100]|Training: 100%|██████████| 63/63 [00:04<00:00, 13.17it/s,  loss 0.9470 accuracy 0.8309]\n",
      "100%|██████████| 13/13 [00:00<00:00, 30.85it/s]\n"
     ]
    },
    {
     "name": "stdout",
     "output_type": "stream",
     "text": [
      "accuracy:  0.4325\n"
     ]
    },
    {
     "name": "stderr",
     "output_type": "stream",
     "text": [
      "epoch[ 68/100]|Training: 100%|██████████| 63/63 [00:04<00:00, 13.06it/s,  loss 0.7020 accuracy 0.8457]\n",
      "100%|██████████| 13/13 [00:00<00:00, 31.08it/s]\n"
     ]
    },
    {
     "name": "stdout",
     "output_type": "stream",
     "text": [
      "accuracy:  0.4625\n"
     ]
    },
    {
     "name": "stderr",
     "output_type": "stream",
     "text": [
      "epoch[ 69/100]|Training: 100%|██████████| 63/63 [00:04<00:00, 13.14it/s,  loss 0.3276 accuracy 0.8472]\n",
      "100%|██████████| 13/13 [00:00<00:00, 31.08it/s]\n"
     ]
    },
    {
     "name": "stdout",
     "output_type": "stream",
     "text": [
      "accuracy:  0.4475\n"
     ]
    },
    {
     "name": "stderr",
     "output_type": "stream",
     "text": [
      "epoch[ 70/100]|Training: 100%|██████████| 63/63 [00:04<00:00, 12.99it/s,  loss 0.3498 accuracy 0.8661]\n",
      "100%|██████████| 13/13 [00:00<00:00, 30.38it/s]\n"
     ]
    },
    {
     "name": "stdout",
     "output_type": "stream",
     "text": [
      "accuracy:  0.4575\n"
     ]
    },
    {
     "name": "stderr",
     "output_type": "stream",
     "text": [
      "epoch[ 71/100]|Training: 100%|██████████| 63/63 [00:04<00:00, 13.06it/s,  loss 0.8036 accuracy 0.8616]\n",
      "100%|██████████| 13/13 [00:00<00:00, 30.72it/s]\n"
     ]
    },
    {
     "name": "stdout",
     "output_type": "stream",
     "text": [
      "accuracy:  0.46\n"
     ]
    },
    {
     "name": "stderr",
     "output_type": "stream",
     "text": [
      "epoch[ 72/100]|Training: 100%|██████████| 63/63 [00:04<00:00, 13.02it/s,  loss 0.8051 accuracy 0.8408]\n",
      "100%|██████████| 13/13 [00:00<00:00, 31.59it/s]\n"
     ]
    },
    {
     "name": "stdout",
     "output_type": "stream",
     "text": [
      "accuracy:  0.405\n"
     ]
    },
    {
     "name": "stderr",
     "output_type": "stream",
     "text": [
      "epoch[ 73/100]|Training: 100%|██████████| 63/63 [00:04<00:00, 13.25it/s,  loss 0.3398 accuracy 0.8562]\n",
      "100%|██████████| 13/13 [00:00<00:00, 32.06it/s]\n"
     ]
    },
    {
     "name": "stdout",
     "output_type": "stream",
     "text": [
      "accuracy:  0.4475\n"
     ]
    },
    {
     "name": "stderr",
     "output_type": "stream",
     "text": [
      "epoch[ 74/100]|Training: 100%|██████████| 63/63 [00:05<00:00, 11.82it/s,  loss 0.7391 accuracy 0.8760]\n",
      "100%|██████████| 13/13 [00:00<00:00, 24.93it/s]\n"
     ]
    },
    {
     "name": "stdout",
     "output_type": "stream",
     "text": [
      "accuracy:  0.4175\n"
     ]
    },
    {
     "name": "stderr",
     "output_type": "stream",
     "text": [
      "epoch[ 75/100]|Training: 100%|██████████| 63/63 [00:06<00:00, 10.37it/s,  loss 0.1062 accuracy 0.8745]\n",
      "100%|██████████| 13/13 [00:00<00:00, 23.77it/s]\n"
     ]
    },
    {
     "name": "stdout",
     "output_type": "stream",
     "text": [
      "accuracy:  0.465\n"
     ]
    },
    {
     "name": "stderr",
     "output_type": "stream",
     "text": [
      "epoch[ 76/100]|Training: 100%|██████████| 63/63 [00:06<00:00, 10.04it/s,  loss 0.3193 accuracy 0.8676]\n",
      "100%|██████████| 13/13 [00:00<00:00, 22.93it/s]\n"
     ]
    },
    {
     "name": "stdout",
     "output_type": "stream",
     "text": [
      "accuracy:  0.4425\n"
     ]
    },
    {
     "name": "stderr",
     "output_type": "stream",
     "text": [
      "epoch[ 77/100]|Training: 100%|██████████| 63/63 [00:06<00:00, 10.11it/s,  loss 0.3922 accuracy 0.8690]\n",
      "100%|██████████| 13/13 [00:00<00:00, 26.11it/s]\n"
     ]
    },
    {
     "name": "stdout",
     "output_type": "stream",
     "text": [
      "accuracy:  0.4525\n"
     ]
    },
    {
     "name": "stderr",
     "output_type": "stream",
     "text": [
      "epoch[ 78/100]|Training: 100%|██████████| 63/63 [00:06<00:00, 10.30it/s,  loss 0.4274 accuracy 0.8819]\n",
      "100%|██████████| 13/13 [00:00<00:00, 19.58it/s]\n"
     ]
    },
    {
     "name": "stdout",
     "output_type": "stream",
     "text": [
      "accuracy:  0.4325\n"
     ]
    },
    {
     "name": "stderr",
     "output_type": "stream",
     "text": [
      "epoch[ 79/100]|Training: 100%|██████████| 63/63 [00:06<00:00, 10.24it/s,  loss 0.3430 accuracy 0.8869]\n",
      "100%|██████████| 13/13 [00:00<00:00, 24.51it/s]\n"
     ]
    },
    {
     "name": "stdout",
     "output_type": "stream",
     "text": [
      "accuracy:  0.445\n"
     ]
    },
    {
     "name": "stderr",
     "output_type": "stream",
     "text": [
      "epoch[ 80/100]|Training: 100%|██████████| 63/63 [00:05<00:00, 10.67it/s,  loss 0.6050 accuracy 0.8894]\n",
      "100%|██████████| 13/13 [00:00<00:00, 25.75it/s]\n"
     ]
    },
    {
     "name": "stdout",
     "output_type": "stream",
     "text": [
      "accuracy:  0.37\n"
     ]
    },
    {
     "name": "stderr",
     "output_type": "stream",
     "text": [
      "epoch[ 81/100]|Training: 100%|██████████| 63/63 [00:06<00:00, 10.30it/s,  loss 0.4437 accuracy 0.8641]\n",
      "100%|██████████| 13/13 [00:00<00:00, 25.75it/s]\n"
     ]
    },
    {
     "name": "stdout",
     "output_type": "stream",
     "text": [
      "accuracy:  0.49\n"
     ]
    },
    {
     "name": "stderr",
     "output_type": "stream",
     "text": [
      "epoch[ 82/100]|Training: 100%|██████████| 63/63 [00:05<00:00, 10.54it/s,  loss 0.6488 accuracy 0.8909]\n",
      "100%|██████████| 13/13 [00:00<00:00, 22.15it/s]\n"
     ]
    },
    {
     "name": "stdout",
     "output_type": "stream",
     "text": [
      "accuracy:  0.4525\n"
     ]
    },
    {
     "name": "stderr",
     "output_type": "stream",
     "text": [
      "epoch[ 83/100]|Training: 100%|██████████| 63/63 [00:06<00:00,  9.70it/s,  loss 0.1770 accuracy 0.8810]\n",
      "100%|██████████| 13/13 [00:00<00:00, 25.26it/s]\n"
     ]
    },
    {
     "name": "stdout",
     "output_type": "stream",
     "text": [
      "accuracy:  0.47\n"
     ]
    },
    {
     "name": "stderr",
     "output_type": "stream",
     "text": [
      "epoch[ 84/100]|Training: 100%|██████████| 63/63 [00:05<00:00, 10.64it/s,  loss 0.3490 accuracy 0.9023]\n",
      "100%|██████████| 13/13 [00:00<00:00, 24.14it/s]\n"
     ]
    },
    {
     "name": "stdout",
     "output_type": "stream",
     "text": [
      "accuracy:  0.43\n"
     ]
    },
    {
     "name": "stderr",
     "output_type": "stream",
     "text": [
      "epoch[ 85/100]|Training: 100%|██████████| 63/63 [00:06<00:00, 10.47it/s,  loss 0.0968 accuracy 0.9122]\n",
      "100%|██████████| 13/13 [00:00<00:00, 25.34it/s]\n"
     ]
    },
    {
     "name": "stdout",
     "output_type": "stream",
     "text": [
      "accuracy:  0.4625\n"
     ]
    },
    {
     "name": "stderr",
     "output_type": "stream",
     "text": [
      "epoch[ 86/100]|Training: 100%|██████████| 63/63 [00:05<00:00, 10.59it/s,  loss 0.8705 accuracy 0.8899]\n",
      "100%|██████████| 13/13 [00:00<00:00, 23.69it/s]\n"
     ]
    },
    {
     "name": "stdout",
     "output_type": "stream",
     "text": [
      "accuracy:  0.47\n"
     ]
    },
    {
     "name": "stderr",
     "output_type": "stream",
     "text": [
      "epoch[ 87/100]|Training: 100%|██████████| 63/63 [00:05<00:00, 10.60it/s,  loss 0.5660 accuracy 0.8844]\n",
      "100%|██████████| 13/13 [00:00<00:00, 25.85it/s]\n"
     ]
    },
    {
     "name": "stdout",
     "output_type": "stream",
     "text": [
      "accuracy:  0.4525\n"
     ]
    },
    {
     "name": "stderr",
     "output_type": "stream",
     "text": [
      "epoch[ 88/100]|Training: 100%|██████████| 63/63 [00:06<00:00, 10.47it/s,  loss 0.2253 accuracy 0.8993]\n",
      "100%|██████████| 13/13 [00:00<00:00, 26.27it/s]\n"
     ]
    },
    {
     "name": "stdout",
     "output_type": "stream",
     "text": [
      "accuracy:  0.4925\n"
     ]
    },
    {
     "name": "stderr",
     "output_type": "stream",
     "text": [
      "epoch[ 89/100]|Training: 100%|██████████| 63/63 [00:05<00:00, 10.73it/s,  loss 0.4307 accuracy 0.9122]\n",
      "100%|██████████| 13/13 [00:00<00:00, 26.38it/s]\n"
     ]
    },
    {
     "name": "stdout",
     "output_type": "stream",
     "text": [
      "accuracy:  0.495\n"
     ]
    },
    {
     "name": "stderr",
     "output_type": "stream",
     "text": [
      "epoch[ 90/100]|Training: 100%|██████████| 63/63 [00:05<00:00, 10.56it/s,  loss 0.3002 accuracy 0.9157]\n",
      "100%|██████████| 13/13 [00:00<00:00, 25.66it/s]\n"
     ]
    },
    {
     "name": "stdout",
     "output_type": "stream",
     "text": [
      "accuracy:  0.4525\n"
     ]
    },
    {
     "name": "stderr",
     "output_type": "stream",
     "text": [
      "epoch[ 91/100]|Training: 100%|██████████| 63/63 [00:06<00:00, 10.35it/s,  loss 0.2122 accuracy 0.9048]\n",
      "100%|██████████| 13/13 [00:00<00:00, 23.38it/s]\n"
     ]
    },
    {
     "name": "stdout",
     "output_type": "stream",
     "text": [
      "accuracy:  0.44\n"
     ]
    },
    {
     "name": "stderr",
     "output_type": "stream",
     "text": [
      "epoch[ 92/100]|Training: 100%|██████████| 63/63 [00:05<00:00, 10.60it/s,  loss 0.7455 accuracy 0.9122]\n",
      "100%|██████████| 13/13 [00:00<00:00, 25.07it/s]\n"
     ]
    },
    {
     "name": "stdout",
     "output_type": "stream",
     "text": [
      "accuracy:  0.4475\n"
     ]
    },
    {
     "name": "stderr",
     "output_type": "stream",
     "text": [
      "epoch[ 93/100]|Training: 100%|██████████| 63/63 [00:05<00:00, 10.78it/s,  loss 0.0315 accuracy 0.9067]\n",
      "100%|██████████| 13/13 [00:00<00:00, 25.63it/s]\n"
     ]
    },
    {
     "name": "stdout",
     "output_type": "stream",
     "text": [
      "accuracy:  0.4625\n"
     ]
    },
    {
     "name": "stderr",
     "output_type": "stream",
     "text": [
      "epoch[ 94/100]|Training: 100%|██████████| 63/63 [00:06<00:00,  9.52it/s,  loss 0.0415 accuracy 0.9286]\n",
      "100%|██████████| 13/13 [00:00<00:00, 22.33it/s]\n"
     ]
    },
    {
     "name": "stdout",
     "output_type": "stream",
     "text": [
      "accuracy:  0.4525\n"
     ]
    },
    {
     "name": "stderr",
     "output_type": "stream",
     "text": [
      "epoch[ 95/100]|Training: 100%|██████████| 63/63 [00:05<00:00, 10.92it/s,  loss 0.1117 accuracy 0.9286]\n",
      "100%|██████████| 13/13 [00:00<00:00, 25.91it/s]\n"
     ]
    },
    {
     "name": "stdout",
     "output_type": "stream",
     "text": [
      "accuracy:  0.44\n"
     ]
    },
    {
     "name": "stderr",
     "output_type": "stream",
     "text": [
      "epoch[ 96/100]|Training: 100%|██████████| 63/63 [00:05<00:00, 10.79it/s,  loss 1.7619 accuracy 0.9087]\n",
      "100%|██████████| 13/13 [00:00<00:00, 25.90it/s]\n"
     ]
    },
    {
     "name": "stdout",
     "output_type": "stream",
     "text": [
      "accuracy:  0.5025\n"
     ]
    },
    {
     "name": "stderr",
     "output_type": "stream",
     "text": [
      "epoch[ 97/100]|Training: 100%|██████████| 63/63 [00:05<00:00, 10.77it/s,  loss 0.2907 accuracy 0.9097]\n",
      "100%|██████████| 13/13 [00:00<00:00, 26.88it/s]\n"
     ]
    },
    {
     "name": "stdout",
     "output_type": "stream",
     "text": [
      "accuracy:  0.4425\n"
     ]
    },
    {
     "name": "stderr",
     "output_type": "stream",
     "text": [
      "epoch[ 98/100]|Training: 100%|██████████| 63/63 [00:05<00:00, 10.70it/s,  loss 0.4374 accuracy 0.9226]\n",
      "100%|██████████| 13/13 [00:00<00:00, 26.10it/s]\n"
     ]
    },
    {
     "name": "stdout",
     "output_type": "stream",
     "text": [
      "accuracy:  0.4325\n"
     ]
    },
    {
     "name": "stderr",
     "output_type": "stream",
     "text": [
      "epoch[ 99/100]|Training: 100%|██████████| 63/63 [00:05<00:00, 10.51it/s,  loss 0.1625 accuracy 0.8943]\n",
      "100%|██████████| 13/13 [00:00<00:00, 27.35it/s]\n"
     ]
    },
    {
     "name": "stdout",
     "output_type": "stream",
     "text": [
      "accuracy:  0.4975\n"
     ]
    },
    {
     "name": "stderr",
     "output_type": "stream",
     "text": [
      "epoch[100/100]|Training: 100%|██████████| 63/63 [00:06<00:00, 10.37it/s,  loss 0.5353 accuracy 0.9082]\n",
      "100%|██████████| 13/13 [00:00<00:00, 25.77it/s]"
     ]
    },
    {
     "name": "stdout",
     "output_type": "stream",
     "text": [
      "accuracy:  0.48\n"
     ]
    },
    {
     "name": "stderr",
     "output_type": "stream",
     "text": [
      "\n"
     ]
    }
   ],
   "source": [
    "num_epochs=100\n",
    "loss_res_no_train_list=[]\n",
    "loss_res_no_test_list=[]\n",
    "acc_res_no_train_list=[]\n",
    "acc_res_no_test_list=[]\n",
    "for i in range(num_epochs):\n",
    "    loss_res_no_train,acc_res_no_train=train(i,num_epochs,model_res_noidet)\n",
    "    loss_res_no_train_list.append(loss_res_no_train)\n",
    "    acc_res_no_train_list.append(acc_res_no_train)\n",
    "\n",
    "    loss_res_no_test,acc_res_no_test=test(model_res_noidet)\n",
    "    loss_res_no_test_list.append(loss_res_no_test)\n",
    "    acc_res_no_test_list.append(acc_res_no_test)"
   ]
  },
  {
   "cell_type": "code",
   "execution_count": 19,
   "metadata": {},
   "outputs": [
    {
     "data": {
      "image/png": "[encoded data removed]",
      "text/plain": [
       "<Figure size 640x480 with 1 Axes>"
      ]
     },
     "metadata": {},
     "output_type": "display_data"
    }
   ],
   "source": [
    "y = loss_res_no_train_list\n",
    "y_test=loss_res_no_test_list\n",
    "plt.title('training and testing loss')\n",
    "plt.plot(y,label='train')\n",
    "plt.plot(y_test, label='test')\n",
    "plt.xlabel('Epoch')\n",
    "plt.ylabel('Loss')\n",
    "plt.legend()\n",
    "plt.show()"
   ]
  },
  {
   "cell_type": "code",
   "execution_count": 20,
   "metadata": {},
   "outputs": [
    {
     "data": {
      "image/png": "[encoded data removed]",
      "text/plain": [
       "<Figure size 640x480 with 1 Axes>"
      ]
     },
     "metadata": {},
     "output_type": "display_data"
    }
   ],
   "source": [
    "y =acc_res_no_train_list\n",
    "y_test=acc_res_no_test_list\n",
    "plt.title('training and testing accuracy')\n",
    "plt.plot(y,label='train')\n",
    "plt.plot(y_test, label='test')\n",
    "plt.xlabel('Epoch')\n",
    "plt.ylabel('Accuracy')\n",
    "plt.legend()\n",
    "plt.show()"
   ]
  },
  {
   "attachments": {},
   "cell_type": "markdown",
   "metadata": {},
   "source": [
    "沒有使用 identity mapping會造成梯度消失，導致模型訓練得很慢，甚至訓練不起來，loss無法下降，accuracy無法上升。"
   ]
  }
 ],
 "metadata": {
  "kernelspec": {
   "display_name": "base",
   "language": "python",
   "name": "python3"
  },
  "language_info": {
   "codemirror_mode": {
    "name": "ipython",
    "version": 3
   },
   "file_extension": ".py",
   "mimetype": "text/x-python",
   "name": "python",
   "nbconvert_exporter": "python",
   "pygments_lexer": "ipython3",
   "version": "3.9.13"
  },
  "orig_nbformat": 4
 },
 "nbformat": 4,
 "nbformat_minor": 2
}
